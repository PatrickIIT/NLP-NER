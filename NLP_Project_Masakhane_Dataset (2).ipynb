{
  "metadata": {
    "kernelspec": {
      "language": "python",
      "display_name": "Python 3",
      "name": "python3"
    },
    "language_info": {
      "name": "python",
      "version": "3.10.12",
      "mimetype": "text/x-python",
      "codemirror_mode": {
        "name": "ipython",
        "version": 3
      },
      "pygments_lexer": "ipython3",
      "nbconvert_exporter": "python",
      "file_extension": ".py"
    },
    "kaggle": {
      "accelerator": "none",
      "dataSources": [],
      "dockerImageVersionId": 30918,
      "isInternetEnabled": true,
      "language": "python",
      "sourceType": "notebook",
      "isGpuEnabled": false
    },
    "colab": {
      "provenance": []
    },
    "widgets": {
      "application/vnd.jupyter.widget-state+json": {
        "415c4ecc0acc4abdb76bae798e2b7fa6": {
          "model_module": "@jupyter-widgets/controls",
          "model_name": "HBoxModel",
          "model_module_version": "1.5.0",
          "state": {
            "_dom_classes": [],
            "_model_module": "@jupyter-widgets/controls",
            "_model_module_version": "1.5.0",
            "_model_name": "HBoxModel",
            "_view_count": null,
            "_view_module": "@jupyter-widgets/controls",
            "_view_module_version": "1.5.0",
            "_view_name": "HBoxView",
            "box_style": "",
            "children": [
              "IPY_MODEL_8343dd6df6fc4e608257bfeca44b2f9b",
              "IPY_MODEL_2982ff76d83142698c303c722f6ddf35",
              "IPY_MODEL_7fd33320739f4e5eac4aacb0f7a2ec94"
            ],
            "layout": "IPY_MODEL_0c5e28fc22704403a72c6ffac685b3dc"
          }
        },
        "8343dd6df6fc4e608257bfeca44b2f9b": {
          "model_module": "@jupyter-widgets/controls",
          "model_name": "HTMLModel",
          "model_module_version": "1.5.0",
          "state": {
            "_dom_classes": [],
            "_model_module": "@jupyter-widgets/controls",
            "_model_module_version": "1.5.0",
            "_model_name": "HTMLModel",
            "_view_count": null,
            "_view_module": "@jupyter-widgets/controls",
            "_view_module_version": "1.5.0",
            "_view_name": "HTMLView",
            "description": "",
            "description_tooltip": null,
            "layout": "IPY_MODEL_c552d8d385a1498996135cd9caed4917",
            "placeholder": "​",
            "style": "IPY_MODEL_568a6a47af9a41c588e30e1eaa1eba72",
            "value": "Downloading builder script: 100%"
          }
        },
        "2982ff76d83142698c303c722f6ddf35": {
          "model_module": "@jupyter-widgets/controls",
          "model_name": "FloatProgressModel",
          "model_module_version": "1.5.0",
          "state": {
            "_dom_classes": [],
            "_model_module": "@jupyter-widgets/controls",
            "_model_module_version": "1.5.0",
            "_model_name": "FloatProgressModel",
            "_view_count": null,
            "_view_module": "@jupyter-widgets/controls",
            "_view_module_version": "1.5.0",
            "_view_name": "ProgressView",
            "bar_style": "success",
            "description": "",
            "description_tooltip": null,
            "layout": "IPY_MODEL_b5556171740d49899af9cfb33bcf6422",
            "max": 6338,
            "min": 0,
            "orientation": "horizontal",
            "style": "IPY_MODEL_b4b98324dad546edb2926f1fe87e8cd7",
            "value": 6338
          }
        },
        "7fd33320739f4e5eac4aacb0f7a2ec94": {
          "model_module": "@jupyter-widgets/controls",
          "model_name": "HTMLModel",
          "model_module_version": "1.5.0",
          "state": {
            "_dom_classes": [],
            "_model_module": "@jupyter-widgets/controls",
            "_model_module_version": "1.5.0",
            "_model_name": "HTMLModel",
            "_view_count": null,
            "_view_module": "@jupyter-widgets/controls",
            "_view_module_version": "1.5.0",
            "_view_name": "HTMLView",
            "description": "",
            "description_tooltip": null,
            "layout": "IPY_MODEL_4c88d44289bc44938bfd8ba64c57879c",
            "placeholder": "​",
            "style": "IPY_MODEL_6a832c4815aa4d1baf5bf15049ee56a5",
            "value": " 6.34k/6.34k [00:00&lt;00:00, 513kB/s]"
          }
        },
        "0c5e28fc22704403a72c6ffac685b3dc": {
          "model_module": "@jupyter-widgets/base",
          "model_name": "LayoutModel",
          "model_module_version": "1.2.0",
          "state": {
            "_model_module": "@jupyter-widgets/base",
            "_model_module_version": "1.2.0",
            "_model_name": "LayoutModel",
            "_view_count": null,
            "_view_module": "@jupyter-widgets/base",
            "_view_module_version": "1.2.0",
            "_view_name": "LayoutView",
            "align_content": null,
            "align_items": null,
            "align_self": null,
            "border": null,
            "bottom": null,
            "display": null,
            "flex": null,
            "flex_flow": null,
            "grid_area": null,
            "grid_auto_columns": null,
            "grid_auto_flow": null,
            "grid_auto_rows": null,
            "grid_column": null,
            "grid_gap": null,
            "grid_row": null,
            "grid_template_areas": null,
            "grid_template_columns": null,
            "grid_template_rows": null,
            "height": null,
            "justify_content": null,
            "justify_items": null,
            "left": null,
            "margin": null,
            "max_height": null,
            "max_width": null,
            "min_height": null,
            "min_width": null,
            "object_fit": null,
            "object_position": null,
            "order": null,
            "overflow": null,
            "overflow_x": null,
            "overflow_y": null,
            "padding": null,
            "right": null,
            "top": null,
            "visibility": null,
            "width": null
          }
        },
        "c552d8d385a1498996135cd9caed4917": {
          "model_module": "@jupyter-widgets/base",
          "model_name": "LayoutModel",
          "model_module_version": "1.2.0",
          "state": {
            "_model_module": "@jupyter-widgets/base",
            "_model_module_version": "1.2.0",
            "_model_name": "LayoutModel",
            "_view_count": null,
            "_view_module": "@jupyter-widgets/base",
            "_view_module_version": "1.2.0",
            "_view_name": "LayoutView",
            "align_content": null,
            "align_items": null,
            "align_self": null,
            "border": null,
            "bottom": null,
            "display": null,
            "flex": null,
            "flex_flow": null,
            "grid_area": null,
            "grid_auto_columns": null,
            "grid_auto_flow": null,
            "grid_auto_rows": null,
            "grid_column": null,
            "grid_gap": null,
            "grid_row": null,
            "grid_template_areas": null,
            "grid_template_columns": null,
            "grid_template_rows": null,
            "height": null,
            "justify_content": null,
            "justify_items": null,
            "left": null,
            "margin": null,
            "max_height": null,
            "max_width": null,
            "min_height": null,
            "min_width": null,
            "object_fit": null,
            "object_position": null,
            "order": null,
            "overflow": null,
            "overflow_x": null,
            "overflow_y": null,
            "padding": null,
            "right": null,
            "top": null,
            "visibility": null,
            "width": null
          }
        },
        "568a6a47af9a41c588e30e1eaa1eba72": {
          "model_module": "@jupyter-widgets/controls",
          "model_name": "DescriptionStyleModel",
          "model_module_version": "1.5.0",
          "state": {
            "_model_module": "@jupyter-widgets/controls",
            "_model_module_version": "1.5.0",
            "_model_name": "DescriptionStyleModel",
            "_view_count": null,
            "_view_module": "@jupyter-widgets/base",
            "_view_module_version": "1.2.0",
            "_view_name": "StyleView",
            "description_width": ""
          }
        },
        "b5556171740d49899af9cfb33bcf6422": {
          "model_module": "@jupyter-widgets/base",
          "model_name": "LayoutModel",
          "model_module_version": "1.2.0",
          "state": {
            "_model_module": "@jupyter-widgets/base",
            "_model_module_version": "1.2.0",
            "_model_name": "LayoutModel",
            "_view_count": null,
            "_view_module": "@jupyter-widgets/base",
            "_view_module_version": "1.2.0",
            "_view_name": "LayoutView",
            "align_content": null,
            "align_items": null,
            "align_self": null,
            "border": null,
            "bottom": null,
            "display": null,
            "flex": null,
            "flex_flow": null,
            "grid_area": null,
            "grid_auto_columns": null,
            "grid_auto_flow": null,
            "grid_auto_rows": null,
            "grid_column": null,
            "grid_gap": null,
            "grid_row": null,
            "grid_template_areas": null,
            "grid_template_columns": null,
            "grid_template_rows": null,
            "height": null,
            "justify_content": null,
            "justify_items": null,
            "left": null,
            "margin": null,
            "max_height": null,
            "max_width": null,
            "min_height": null,
            "min_width": null,
            "object_fit": null,
            "object_position": null,
            "order": null,
            "overflow": null,
            "overflow_x": null,
            "overflow_y": null,
            "padding": null,
            "right": null,
            "top": null,
            "visibility": null,
            "width": null
          }
        },
        "b4b98324dad546edb2926f1fe87e8cd7": {
          "model_module": "@jupyter-widgets/controls",
          "model_name": "ProgressStyleModel",
          "model_module_version": "1.5.0",
          "state": {
            "_model_module": "@jupyter-widgets/controls",
            "_model_module_version": "1.5.0",
            "_model_name": "ProgressStyleModel",
            "_view_count": null,
            "_view_module": "@jupyter-widgets/base",
            "_view_module_version": "1.2.0",
            "_view_name": "StyleView",
            "bar_color": null,
            "description_width": ""
          }
        },
        "4c88d44289bc44938bfd8ba64c57879c": {
          "model_module": "@jupyter-widgets/base",
          "model_name": "LayoutModel",
          "model_module_version": "1.2.0",
          "state": {
            "_model_module": "@jupyter-widgets/base",
            "_model_module_version": "1.2.0",
            "_model_name": "LayoutModel",
            "_view_count": null,
            "_view_module": "@jupyter-widgets/base",
            "_view_module_version": "1.2.0",
            "_view_name": "LayoutView",
            "align_content": null,
            "align_items": null,
            "align_self": null,
            "border": null,
            "bottom": null,
            "display": null,
            "flex": null,
            "flex_flow": null,
            "grid_area": null,
            "grid_auto_columns": null,
            "grid_auto_flow": null,
            "grid_auto_rows": null,
            "grid_column": null,
            "grid_gap": null,
            "grid_row": null,
            "grid_template_areas": null,
            "grid_template_columns": null,
            "grid_template_rows": null,
            "height": null,
            "justify_content": null,
            "justify_items": null,
            "left": null,
            "margin": null,
            "max_height": null,
            "max_width": null,
            "min_height": null,
            "min_width": null,
            "object_fit": null,
            "object_position": null,
            "order": null,
            "overflow": null,
            "overflow_x": null,
            "overflow_y": null,
            "padding": null,
            "right": null,
            "top": null,
            "visibility": null,
            "width": null
          }
        },
        "6a832c4815aa4d1baf5bf15049ee56a5": {
          "model_module": "@jupyter-widgets/controls",
          "model_name": "DescriptionStyleModel",
          "model_module_version": "1.5.0",
          "state": {
            "_model_module": "@jupyter-widgets/controls",
            "_model_module_version": "1.5.0",
            "_model_name": "DescriptionStyleModel",
            "_view_count": null,
            "_view_module": "@jupyter-widgets/base",
            "_view_module_version": "1.2.0",
            "_view_name": "StyleView",
            "description_width": ""
          }
        },
        "07df30a0496b4abbbbcf4d9e6fb1f357": {
          "model_module": "@jupyter-widgets/controls",
          "model_name": "HBoxModel",
          "model_module_version": "1.5.0",
          "state": {
            "_dom_classes": [],
            "_model_module": "@jupyter-widgets/controls",
            "_model_module_version": "1.5.0",
            "_model_name": "HBoxModel",
            "_view_count": null,
            "_view_module": "@jupyter-widgets/controls",
            "_view_module_version": "1.5.0",
            "_view_name": "HBoxView",
            "box_style": "",
            "children": [
              "IPY_MODEL_cab15355587b48c5803540a6875b2c87",
              "IPY_MODEL_78ce255b78bf41e6a4a8d96eda32f9c4",
              "IPY_MODEL_fdd20e63059f4774a8ea186de63eddb1"
            ],
            "layout": "IPY_MODEL_ea34f1021ad440bf9173cb8792a5dd0c"
          }
        },
        "cab15355587b48c5803540a6875b2c87": {
          "model_module": "@jupyter-widgets/controls",
          "model_name": "HTMLModel",
          "model_module_version": "1.5.0",
          "state": {
            "_dom_classes": [],
            "_model_module": "@jupyter-widgets/controls",
            "_model_module_version": "1.5.0",
            "_model_name": "HTMLModel",
            "_view_count": null,
            "_view_module": "@jupyter-widgets/controls",
            "_view_module_version": "1.5.0",
            "_view_name": "HTMLView",
            "description": "",
            "description_tooltip": null,
            "layout": "IPY_MODEL_8d3e151e5c4945729533106ba70389e4",
            "placeholder": "​",
            "style": "IPY_MODEL_015ab6bed5d940fb9bedd84565eb6460",
            "value": "Map: 100%"
          }
        },
        "78ce255b78bf41e6a4a8d96eda32f9c4": {
          "model_module": "@jupyter-widgets/controls",
          "model_name": "FloatProgressModel",
          "model_module_version": "1.5.0",
          "state": {
            "_dom_classes": [],
            "_model_module": "@jupyter-widgets/controls",
            "_model_module_version": "1.5.0",
            "_model_name": "FloatProgressModel",
            "_view_count": null,
            "_view_module": "@jupyter-widgets/controls",
            "_view_module_version": "1.5.0",
            "_view_name": "ProgressView",
            "bar_style": "success",
            "description": "",
            "description_tooltip": null,
            "layout": "IPY_MODEL_4042b6501bcd4498aa032e28a436540f",
            "max": 2109,
            "min": 0,
            "orientation": "horizontal",
            "style": "IPY_MODEL_d254dda32b9e4467ab04332e5c141fa5",
            "value": 2109
          }
        },
        "fdd20e63059f4774a8ea186de63eddb1": {
          "model_module": "@jupyter-widgets/controls",
          "model_name": "HTMLModel",
          "model_module_version": "1.5.0",
          "state": {
            "_dom_classes": [],
            "_model_module": "@jupyter-widgets/controls",
            "_model_module_version": "1.5.0",
            "_model_name": "HTMLModel",
            "_view_count": null,
            "_view_module": "@jupyter-widgets/controls",
            "_view_module_version": "1.5.0",
            "_view_name": "HTMLView",
            "description": "",
            "description_tooltip": null,
            "layout": "IPY_MODEL_dd9e7397af3044b6a25fdc66a934f067",
            "placeholder": "​",
            "style": "IPY_MODEL_2c5c4f0b5ed6485e9e5b14b7572bf913",
            "value": " 2109/2109 [00:01&lt;00:00, 1471.50 examples/s]"
          }
        },
        "ea34f1021ad440bf9173cb8792a5dd0c": {
          "model_module": "@jupyter-widgets/base",
          "model_name": "LayoutModel",
          "model_module_version": "1.2.0",
          "state": {
            "_model_module": "@jupyter-widgets/base",
            "_model_module_version": "1.2.0",
            "_model_name": "LayoutModel",
            "_view_count": null,
            "_view_module": "@jupyter-widgets/base",
            "_view_module_version": "1.2.0",
            "_view_name": "LayoutView",
            "align_content": null,
            "align_items": null,
            "align_self": null,
            "border": null,
            "bottom": null,
            "display": null,
            "flex": null,
            "flex_flow": null,
            "grid_area": null,
            "grid_auto_columns": null,
            "grid_auto_flow": null,
            "grid_auto_rows": null,
            "grid_column": null,
            "grid_gap": null,
            "grid_row": null,
            "grid_template_areas": null,
            "grid_template_columns": null,
            "grid_template_rows": null,
            "height": null,
            "justify_content": null,
            "justify_items": null,
            "left": null,
            "margin": null,
            "max_height": null,
            "max_width": null,
            "min_height": null,
            "min_width": null,
            "object_fit": null,
            "object_position": null,
            "order": null,
            "overflow": null,
            "overflow_x": null,
            "overflow_y": null,
            "padding": null,
            "right": null,
            "top": null,
            "visibility": null,
            "width": null
          }
        },
        "8d3e151e5c4945729533106ba70389e4": {
          "model_module": "@jupyter-widgets/base",
          "model_name": "LayoutModel",
          "model_module_version": "1.2.0",
          "state": {
            "_model_module": "@jupyter-widgets/base",
            "_model_module_version": "1.2.0",
            "_model_name": "LayoutModel",
            "_view_count": null,
            "_view_module": "@jupyter-widgets/base",
            "_view_module_version": "1.2.0",
            "_view_name": "LayoutView",
            "align_content": null,
            "align_items": null,
            "align_self": null,
            "border": null,
            "bottom": null,
            "display": null,
            "flex": null,
            "flex_flow": null,
            "grid_area": null,
            "grid_auto_columns": null,
            "grid_auto_flow": null,
            "grid_auto_rows": null,
            "grid_column": null,
            "grid_gap": null,
            "grid_row": null,
            "grid_template_areas": null,
            "grid_template_columns": null,
            "grid_template_rows": null,
            "height": null,
            "justify_content": null,
            "justify_items": null,
            "left": null,
            "margin": null,
            "max_height": null,
            "max_width": null,
            "min_height": null,
            "min_width": null,
            "object_fit": null,
            "object_position": null,
            "order": null,
            "overflow": null,
            "overflow_x": null,
            "overflow_y": null,
            "padding": null,
            "right": null,
            "top": null,
            "visibility": null,
            "width": null
          }
        },
        "015ab6bed5d940fb9bedd84565eb6460": {
          "model_module": "@jupyter-widgets/controls",
          "model_name": "DescriptionStyleModel",
          "model_module_version": "1.5.0",
          "state": {
            "_model_module": "@jupyter-widgets/controls",
            "_model_module_version": "1.5.0",
            "_model_name": "DescriptionStyleModel",
            "_view_count": null,
            "_view_module": "@jupyter-widgets/base",
            "_view_module_version": "1.2.0",
            "_view_name": "StyleView",
            "description_width": ""
          }
        },
        "4042b6501bcd4498aa032e28a436540f": {
          "model_module": "@jupyter-widgets/base",
          "model_name": "LayoutModel",
          "model_module_version": "1.2.0",
          "state": {
            "_model_module": "@jupyter-widgets/base",
            "_model_module_version": "1.2.0",
            "_model_name": "LayoutModel",
            "_view_count": null,
            "_view_module": "@jupyter-widgets/base",
            "_view_module_version": "1.2.0",
            "_view_name": "LayoutView",
            "align_content": null,
            "align_items": null,
            "align_self": null,
            "border": null,
            "bottom": null,
            "display": null,
            "flex": null,
            "flex_flow": null,
            "grid_area": null,
            "grid_auto_columns": null,
            "grid_auto_flow": null,
            "grid_auto_rows": null,
            "grid_column": null,
            "grid_gap": null,
            "grid_row": null,
            "grid_template_areas": null,
            "grid_template_columns": null,
            "grid_template_rows": null,
            "height": null,
            "justify_content": null,
            "justify_items": null,
            "left": null,
            "margin": null,
            "max_height": null,
            "max_width": null,
            "min_height": null,
            "min_width": null,
            "object_fit": null,
            "object_position": null,
            "order": null,
            "overflow": null,
            "overflow_x": null,
            "overflow_y": null,
            "padding": null,
            "right": null,
            "top": null,
            "visibility": null,
            "width": null
          }
        },
        "d254dda32b9e4467ab04332e5c141fa5": {
          "model_module": "@jupyter-widgets/controls",
          "model_name": "ProgressStyleModel",
          "model_module_version": "1.5.0",
          "state": {
            "_model_module": "@jupyter-widgets/controls",
            "_model_module_version": "1.5.0",
            "_model_name": "ProgressStyleModel",
            "_view_count": null,
            "_view_module": "@jupyter-widgets/base",
            "_view_module_version": "1.2.0",
            "_view_name": "StyleView",
            "bar_color": null,
            "description_width": ""
          }
        },
        "dd9e7397af3044b6a25fdc66a934f067": {
          "model_module": "@jupyter-widgets/base",
          "model_name": "LayoutModel",
          "model_module_version": "1.2.0",
          "state": {
            "_model_module": "@jupyter-widgets/base",
            "_model_module_version": "1.2.0",
            "_model_name": "LayoutModel",
            "_view_count": null,
            "_view_module": "@jupyter-widgets/base",
            "_view_module_version": "1.2.0",
            "_view_name": "LayoutView",
            "align_content": null,
            "align_items": null,
            "align_self": null,
            "border": null,
            "bottom": null,
            "display": null,
            "flex": null,
            "flex_flow": null,
            "grid_area": null,
            "grid_auto_columns": null,
            "grid_auto_flow": null,
            "grid_auto_rows": null,
            "grid_column": null,
            "grid_gap": null,
            "grid_row": null,
            "grid_template_areas": null,
            "grid_template_columns": null,
            "grid_template_rows": null,
            "height": null,
            "justify_content": null,
            "justify_items": null,
            "left": null,
            "margin": null,
            "max_height": null,
            "max_width": null,
            "min_height": null,
            "min_width": null,
            "object_fit": null,
            "object_position": null,
            "order": null,
            "overflow": null,
            "overflow_x": null,
            "overflow_y": null,
            "padding": null,
            "right": null,
            "top": null,
            "visibility": null,
            "width": null
          }
        },
        "2c5c4f0b5ed6485e9e5b14b7572bf913": {
          "model_module": "@jupyter-widgets/controls",
          "model_name": "DescriptionStyleModel",
          "model_module_version": "1.5.0",
          "state": {
            "_model_module": "@jupyter-widgets/controls",
            "_model_module_version": "1.5.0",
            "_model_name": "DescriptionStyleModel",
            "_view_count": null,
            "_view_module": "@jupyter-widgets/base",
            "_view_module_version": "1.2.0",
            "_view_name": "StyleView",
            "description_width": ""
          }
        },
        "03680991c4e044d9bdc574961bb7c720": {
          "model_module": "@jupyter-widgets/controls",
          "model_name": "HBoxModel",
          "model_module_version": "1.5.0",
          "state": {
            "_dom_classes": [],
            "_model_module": "@jupyter-widgets/controls",
            "_model_module_version": "1.5.0",
            "_model_name": "HBoxModel",
            "_view_count": null,
            "_view_module": "@jupyter-widgets/controls",
            "_view_module_version": "1.5.0",
            "_view_name": "HBoxView",
            "box_style": "",
            "children": [
              "IPY_MODEL_7c5b5ca2d5ff45cd91e3bdf70c602bba",
              "IPY_MODEL_6ec29ccd230c4231bf63554bbebd1f80",
              "IPY_MODEL_9d116dc321254ec9885a77d92a641f90"
            ],
            "layout": "IPY_MODEL_e015c177a9eb426fadbe999f667a0a20"
          }
        },
        "7c5b5ca2d5ff45cd91e3bdf70c602bba": {
          "model_module": "@jupyter-widgets/controls",
          "model_name": "HTMLModel",
          "model_module_version": "1.5.0",
          "state": {
            "_dom_classes": [],
            "_model_module": "@jupyter-widgets/controls",
            "_model_module_version": "1.5.0",
            "_model_name": "HTMLModel",
            "_view_count": null,
            "_view_module": "@jupyter-widgets/controls",
            "_view_module_version": "1.5.0",
            "_view_name": "HTMLView",
            "description": "",
            "description_tooltip": null,
            "layout": "IPY_MODEL_b466abf608b8494086a00145e2a63572",
            "placeholder": "​",
            "style": "IPY_MODEL_7851ca7b8db24c489576e191aaf2b9e8",
            "value": "Map: 100%"
          }
        },
        "6ec29ccd230c4231bf63554bbebd1f80": {
          "model_module": "@jupyter-widgets/controls",
          "model_name": "FloatProgressModel",
          "model_module_version": "1.5.0",
          "state": {
            "_dom_classes": [],
            "_model_module": "@jupyter-widgets/controls",
            "_model_module_version": "1.5.0",
            "_model_name": "FloatProgressModel",
            "_view_count": null,
            "_view_module": "@jupyter-widgets/controls",
            "_view_module_version": "1.5.0",
            "_view_name": "ProgressView",
            "bar_style": "success",
            "description": "",
            "description_tooltip": null,
            "layout": "IPY_MODEL_717718a49a764065957e166ecc6b07f3",
            "max": 300,
            "min": 0,
            "orientation": "horizontal",
            "style": "IPY_MODEL_19d778462e9e442f946f95f45e1446bb",
            "value": 300
          }
        },
        "9d116dc321254ec9885a77d92a641f90": {
          "model_module": "@jupyter-widgets/controls",
          "model_name": "HTMLModel",
          "model_module_version": "1.5.0",
          "state": {
            "_dom_classes": [],
            "_model_module": "@jupyter-widgets/controls",
            "_model_module_version": "1.5.0",
            "_model_name": "HTMLModel",
            "_view_count": null,
            "_view_module": "@jupyter-widgets/controls",
            "_view_module_version": "1.5.0",
            "_view_name": "HTMLView",
            "description": "",
            "description_tooltip": null,
            "layout": "IPY_MODEL_0ba59561fb334596a68a37b5e0ee8dcb",
            "placeholder": "​",
            "style": "IPY_MODEL_206ce4aa70164c1b8565aaa1f06e4823",
            "value": " 300/300 [00:00&lt;00:00, 1834.26 examples/s]"
          }
        },
        "e015c177a9eb426fadbe999f667a0a20": {
          "model_module": "@jupyter-widgets/base",
          "model_name": "LayoutModel",
          "model_module_version": "1.2.0",
          "state": {
            "_model_module": "@jupyter-widgets/base",
            "_model_module_version": "1.2.0",
            "_model_name": "LayoutModel",
            "_view_count": null,
            "_view_module": "@jupyter-widgets/base",
            "_view_module_version": "1.2.0",
            "_view_name": "LayoutView",
            "align_content": null,
            "align_items": null,
            "align_self": null,
            "border": null,
            "bottom": null,
            "display": null,
            "flex": null,
            "flex_flow": null,
            "grid_area": null,
            "grid_auto_columns": null,
            "grid_auto_flow": null,
            "grid_auto_rows": null,
            "grid_column": null,
            "grid_gap": null,
            "grid_row": null,
            "grid_template_areas": null,
            "grid_template_columns": null,
            "grid_template_rows": null,
            "height": null,
            "justify_content": null,
            "justify_items": null,
            "left": null,
            "margin": null,
            "max_height": null,
            "max_width": null,
            "min_height": null,
            "min_width": null,
            "object_fit": null,
            "object_position": null,
            "order": null,
            "overflow": null,
            "overflow_x": null,
            "overflow_y": null,
            "padding": null,
            "right": null,
            "top": null,
            "visibility": null,
            "width": null
          }
        },
        "b466abf608b8494086a00145e2a63572": {
          "model_module": "@jupyter-widgets/base",
          "model_name": "LayoutModel",
          "model_module_version": "1.2.0",
          "state": {
            "_model_module": "@jupyter-widgets/base",
            "_model_module_version": "1.2.0",
            "_model_name": "LayoutModel",
            "_view_count": null,
            "_view_module": "@jupyter-widgets/base",
            "_view_module_version": "1.2.0",
            "_view_name": "LayoutView",
            "align_content": null,
            "align_items": null,
            "align_self": null,
            "border": null,
            "bottom": null,
            "display": null,
            "flex": null,
            "flex_flow": null,
            "grid_area": null,
            "grid_auto_columns": null,
            "grid_auto_flow": null,
            "grid_auto_rows": null,
            "grid_column": null,
            "grid_gap": null,
            "grid_row": null,
            "grid_template_areas": null,
            "grid_template_columns": null,
            "grid_template_rows": null,
            "height": null,
            "justify_content": null,
            "justify_items": null,
            "left": null,
            "margin": null,
            "max_height": null,
            "max_width": null,
            "min_height": null,
            "min_width": null,
            "object_fit": null,
            "object_position": null,
            "order": null,
            "overflow": null,
            "overflow_x": null,
            "overflow_y": null,
            "padding": null,
            "right": null,
            "top": null,
            "visibility": null,
            "width": null
          }
        },
        "7851ca7b8db24c489576e191aaf2b9e8": {
          "model_module": "@jupyter-widgets/controls",
          "model_name": "DescriptionStyleModel",
          "model_module_version": "1.5.0",
          "state": {
            "_model_module": "@jupyter-widgets/controls",
            "_model_module_version": "1.5.0",
            "_model_name": "DescriptionStyleModel",
            "_view_count": null,
            "_view_module": "@jupyter-widgets/base",
            "_view_module_version": "1.2.0",
            "_view_name": "StyleView",
            "description_width": ""
          }
        },
        "717718a49a764065957e166ecc6b07f3": {
          "model_module": "@jupyter-widgets/base",
          "model_name": "LayoutModel",
          "model_module_version": "1.2.0",
          "state": {
            "_model_module": "@jupyter-widgets/base",
            "_model_module_version": "1.2.0",
            "_model_name": "LayoutModel",
            "_view_count": null,
            "_view_module": "@jupyter-widgets/base",
            "_view_module_version": "1.2.0",
            "_view_name": "LayoutView",
            "align_content": null,
            "align_items": null,
            "align_self": null,
            "border": null,
            "bottom": null,
            "display": null,
            "flex": null,
            "flex_flow": null,
            "grid_area": null,
            "grid_auto_columns": null,
            "grid_auto_flow": null,
            "grid_auto_rows": null,
            "grid_column": null,
            "grid_gap": null,
            "grid_row": null,
            "grid_template_areas": null,
            "grid_template_columns": null,
            "grid_template_rows": null,
            "height": null,
            "justify_content": null,
            "justify_items": null,
            "left": null,
            "margin": null,
            "max_height": null,
            "max_width": null,
            "min_height": null,
            "min_width": null,
            "object_fit": null,
            "object_position": null,
            "order": null,
            "overflow": null,
            "overflow_x": null,
            "overflow_y": null,
            "padding": null,
            "right": null,
            "top": null,
            "visibility": null,
            "width": null
          }
        },
        "19d778462e9e442f946f95f45e1446bb": {
          "model_module": "@jupyter-widgets/controls",
          "model_name": "ProgressStyleModel",
          "model_module_version": "1.5.0",
          "state": {
            "_model_module": "@jupyter-widgets/controls",
            "_model_module_version": "1.5.0",
            "_model_name": "ProgressStyleModel",
            "_view_count": null,
            "_view_module": "@jupyter-widgets/base",
            "_view_module_version": "1.2.0",
            "_view_name": "StyleView",
            "bar_color": null,
            "description_width": ""
          }
        },
        "0ba59561fb334596a68a37b5e0ee8dcb": {
          "model_module": "@jupyter-widgets/base",
          "model_name": "LayoutModel",
          "model_module_version": "1.2.0",
          "state": {
            "_model_module": "@jupyter-widgets/base",
            "_model_module_version": "1.2.0",
            "_model_name": "LayoutModel",
            "_view_count": null,
            "_view_module": "@jupyter-widgets/base",
            "_view_module_version": "1.2.0",
            "_view_name": "LayoutView",
            "align_content": null,
            "align_items": null,
            "align_self": null,
            "border": null,
            "bottom": null,
            "display": null,
            "flex": null,
            "flex_flow": null,
            "grid_area": null,
            "grid_auto_columns": null,
            "grid_auto_flow": null,
            "grid_auto_rows": null,
            "grid_column": null,
            "grid_gap": null,
            "grid_row": null,
            "grid_template_areas": null,
            "grid_template_columns": null,
            "grid_template_rows": null,
            "height": null,
            "justify_content": null,
            "justify_items": null,
            "left": null,
            "margin": null,
            "max_height": null,
            "max_width": null,
            "min_height": null,
            "min_width": null,
            "object_fit": null,
            "object_position": null,
            "order": null,
            "overflow": null,
            "overflow_x": null,
            "overflow_y": null,
            "padding": null,
            "right": null,
            "top": null,
            "visibility": null,
            "width": null
          }
        },
        "206ce4aa70164c1b8565aaa1f06e4823": {
          "model_module": "@jupyter-widgets/controls",
          "model_name": "DescriptionStyleModel",
          "model_module_version": "1.5.0",
          "state": {
            "_model_module": "@jupyter-widgets/controls",
            "_model_module_version": "1.5.0",
            "_model_name": "DescriptionStyleModel",
            "_view_count": null,
            "_view_module": "@jupyter-widgets/base",
            "_view_module_version": "1.2.0",
            "_view_name": "StyleView",
            "description_width": ""
          }
        },
        "01c83766f77a47aba7269bc41aadc453": {
          "model_module": "@jupyter-widgets/controls",
          "model_name": "HBoxModel",
          "model_module_version": "1.5.0",
          "state": {
            "_dom_classes": [],
            "_model_module": "@jupyter-widgets/controls",
            "_model_module_version": "1.5.0",
            "_model_name": "HBoxModel",
            "_view_count": null,
            "_view_module": "@jupyter-widgets/controls",
            "_view_module_version": "1.5.0",
            "_view_name": "HBoxView",
            "box_style": "",
            "children": [
              "IPY_MODEL_dbb092e947f64e5cb5f56b60336f34dc",
              "IPY_MODEL_1ef8292c7d6c45d796c94cb2d35d97eb",
              "IPY_MODEL_e00f92436b73471397138ebf92f0ab23"
            ],
            "layout": "IPY_MODEL_442db08002884a66a32879460dafcbbc"
          }
        },
        "dbb092e947f64e5cb5f56b60336f34dc": {
          "model_module": "@jupyter-widgets/controls",
          "model_name": "HTMLModel",
          "model_module_version": "1.5.0",
          "state": {
            "_dom_classes": [],
            "_model_module": "@jupyter-widgets/controls",
            "_model_module_version": "1.5.0",
            "_model_name": "HTMLModel",
            "_view_count": null,
            "_view_module": "@jupyter-widgets/controls",
            "_view_module_version": "1.5.0",
            "_view_name": "HTMLView",
            "description": "",
            "description_tooltip": null,
            "layout": "IPY_MODEL_6f28ac4236ee4d1e80574a068544d5aa",
            "placeholder": "​",
            "style": "IPY_MODEL_989adcda943d41c187807372f83da5b3",
            "value": "Map: 100%"
          }
        },
        "1ef8292c7d6c45d796c94cb2d35d97eb": {
          "model_module": "@jupyter-widgets/controls",
          "model_name": "FloatProgressModel",
          "model_module_version": "1.5.0",
          "state": {
            "_dom_classes": [],
            "_model_module": "@jupyter-widgets/controls",
            "_model_module_version": "1.5.0",
            "_model_name": "FloatProgressModel",
            "_view_count": null,
            "_view_module": "@jupyter-widgets/controls",
            "_view_module_version": "1.5.0",
            "_view_name": "ProgressView",
            "bar_style": "success",
            "description": "",
            "description_tooltip": null,
            "layout": "IPY_MODEL_7d5edc0e42ab426ebe9b04a505b7f8a3",
            "max": 604,
            "min": 0,
            "orientation": "horizontal",
            "style": "IPY_MODEL_1c8916395a4d4493931742effbac5472",
            "value": 604
          }
        },
        "e00f92436b73471397138ebf92f0ab23": {
          "model_module": "@jupyter-widgets/controls",
          "model_name": "HTMLModel",
          "model_module_version": "1.5.0",
          "state": {
            "_dom_classes": [],
            "_model_module": "@jupyter-widgets/controls",
            "_model_module_version": "1.5.0",
            "_model_name": "HTMLModel",
            "_view_count": null,
            "_view_module": "@jupyter-widgets/controls",
            "_view_module_version": "1.5.0",
            "_view_name": "HTMLView",
            "description": "",
            "description_tooltip": null,
            "layout": "IPY_MODEL_f47a26e7b1f34f248a22f08ff0a4b3d9",
            "placeholder": "​",
            "style": "IPY_MODEL_98249e6105b74d329da3e46b5c143245",
            "value": " 604/604 [00:00&lt;00:00, 2064.29 examples/s]"
          }
        },
        "442db08002884a66a32879460dafcbbc": {
          "model_module": "@jupyter-widgets/base",
          "model_name": "LayoutModel",
          "model_module_version": "1.2.0",
          "state": {
            "_model_module": "@jupyter-widgets/base",
            "_model_module_version": "1.2.0",
            "_model_name": "LayoutModel",
            "_view_count": null,
            "_view_module": "@jupyter-widgets/base",
            "_view_module_version": "1.2.0",
            "_view_name": "LayoutView",
            "align_content": null,
            "align_items": null,
            "align_self": null,
            "border": null,
            "bottom": null,
            "display": null,
            "flex": null,
            "flex_flow": null,
            "grid_area": null,
            "grid_auto_columns": null,
            "grid_auto_flow": null,
            "grid_auto_rows": null,
            "grid_column": null,
            "grid_gap": null,
            "grid_row": null,
            "grid_template_areas": null,
            "grid_template_columns": null,
            "grid_template_rows": null,
            "height": null,
            "justify_content": null,
            "justify_items": null,
            "left": null,
            "margin": null,
            "max_height": null,
            "max_width": null,
            "min_height": null,
            "min_width": null,
            "object_fit": null,
            "object_position": null,
            "order": null,
            "overflow": null,
            "overflow_x": null,
            "overflow_y": null,
            "padding": null,
            "right": null,
            "top": null,
            "visibility": null,
            "width": null
          }
        },
        "6f28ac4236ee4d1e80574a068544d5aa": {
          "model_module": "@jupyter-widgets/base",
          "model_name": "LayoutModel",
          "model_module_version": "1.2.0",
          "state": {
            "_model_module": "@jupyter-widgets/base",
            "_model_module_version": "1.2.0",
            "_model_name": "LayoutModel",
            "_view_count": null,
            "_view_module": "@jupyter-widgets/base",
            "_view_module_version": "1.2.0",
            "_view_name": "LayoutView",
            "align_content": null,
            "align_items": null,
            "align_self": null,
            "border": null,
            "bottom": null,
            "display": null,
            "flex": null,
            "flex_flow": null,
            "grid_area": null,
            "grid_auto_columns": null,
            "grid_auto_flow": null,
            "grid_auto_rows": null,
            "grid_column": null,
            "grid_gap": null,
            "grid_row": null,
            "grid_template_areas": null,
            "grid_template_columns": null,
            "grid_template_rows": null,
            "height": null,
            "justify_content": null,
            "justify_items": null,
            "left": null,
            "margin": null,
            "max_height": null,
            "max_width": null,
            "min_height": null,
            "min_width": null,
            "object_fit": null,
            "object_position": null,
            "order": null,
            "overflow": null,
            "overflow_x": null,
            "overflow_y": null,
            "padding": null,
            "right": null,
            "top": null,
            "visibility": null,
            "width": null
          }
        },
        "989adcda943d41c187807372f83da5b3": {
          "model_module": "@jupyter-widgets/controls",
          "model_name": "DescriptionStyleModel",
          "model_module_version": "1.5.0",
          "state": {
            "_model_module": "@jupyter-widgets/controls",
            "_model_module_version": "1.5.0",
            "_model_name": "DescriptionStyleModel",
            "_view_count": null,
            "_view_module": "@jupyter-widgets/base",
            "_view_module_version": "1.2.0",
            "_view_name": "StyleView",
            "description_width": ""
          }
        },
        "7d5edc0e42ab426ebe9b04a505b7f8a3": {
          "model_module": "@jupyter-widgets/base",
          "model_name": "LayoutModel",
          "model_module_version": "1.2.0",
          "state": {
            "_model_module": "@jupyter-widgets/base",
            "_model_module_version": "1.2.0",
            "_model_name": "LayoutModel",
            "_view_count": null,
            "_view_module": "@jupyter-widgets/base",
            "_view_module_version": "1.2.0",
            "_view_name": "LayoutView",
            "align_content": null,
            "align_items": null,
            "align_self": null,
            "border": null,
            "bottom": null,
            "display": null,
            "flex": null,
            "flex_flow": null,
            "grid_area": null,
            "grid_auto_columns": null,
            "grid_auto_flow": null,
            "grid_auto_rows": null,
            "grid_column": null,
            "grid_gap": null,
            "grid_row": null,
            "grid_template_areas": null,
            "grid_template_columns": null,
            "grid_template_rows": null,
            "height": null,
            "justify_content": null,
            "justify_items": null,
            "left": null,
            "margin": null,
            "max_height": null,
            "max_width": null,
            "min_height": null,
            "min_width": null,
            "object_fit": null,
            "object_position": null,
            "order": null,
            "overflow": null,
            "overflow_x": null,
            "overflow_y": null,
            "padding": null,
            "right": null,
            "top": null,
            "visibility": null,
            "width": null
          }
        },
        "1c8916395a4d4493931742effbac5472": {
          "model_module": "@jupyter-widgets/controls",
          "model_name": "ProgressStyleModel",
          "model_module_version": "1.5.0",
          "state": {
            "_model_module": "@jupyter-widgets/controls",
            "_model_module_version": "1.5.0",
            "_model_name": "ProgressStyleModel",
            "_view_count": null,
            "_view_module": "@jupyter-widgets/base",
            "_view_module_version": "1.2.0",
            "_view_name": "StyleView",
            "bar_color": null,
            "description_width": ""
          }
        },
        "f47a26e7b1f34f248a22f08ff0a4b3d9": {
          "model_module": "@jupyter-widgets/base",
          "model_name": "LayoutModel",
          "model_module_version": "1.2.0",
          "state": {
            "_model_module": "@jupyter-widgets/base",
            "_model_module_version": "1.2.0",
            "_model_name": "LayoutModel",
            "_view_count": null,
            "_view_module": "@jupyter-widgets/base",
            "_view_module_version": "1.2.0",
            "_view_name": "LayoutView",
            "align_content": null,
            "align_items": null,
            "align_self": null,
            "border": null,
            "bottom": null,
            "display": null,
            "flex": null,
            "flex_flow": null,
            "grid_area": null,
            "grid_auto_columns": null,
            "grid_auto_flow": null,
            "grid_auto_rows": null,
            "grid_column": null,
            "grid_gap": null,
            "grid_row": null,
            "grid_template_areas": null,
            "grid_template_columns": null,
            "grid_template_rows": null,
            "height": null,
            "justify_content": null,
            "justify_items": null,
            "left": null,
            "margin": null,
            "max_height": null,
            "max_width": null,
            "min_height": null,
            "min_width": null,
            "object_fit": null,
            "object_position": null,
            "order": null,
            "overflow": null,
            "overflow_x": null,
            "overflow_y": null,
            "padding": null,
            "right": null,
            "top": null,
            "visibility": null,
            "width": null
          }
        },
        "98249e6105b74d329da3e46b5c143245": {
          "model_module": "@jupyter-widgets/controls",
          "model_name": "DescriptionStyleModel",
          "model_module_version": "1.5.0",
          "state": {
            "_model_module": "@jupyter-widgets/controls",
            "_model_module_version": "1.5.0",
            "_model_name": "DescriptionStyleModel",
            "_view_count": null,
            "_view_module": "@jupyter-widgets/base",
            "_view_module_version": "1.2.0",
            "_view_name": "StyleView",
            "description_width": ""
          }
        }
      }
    }
  },
  "nbformat_minor": 0,
  "nbformat": 4,
  "cells": [
    {
      "cell_type": "code",
      "source": [
        "import numpy as np # linear algebra\n",
        "import pandas as pd # data processing, CSV file I/O (e.g. pd.read_csv)"
      ],
      "metadata": {
        "_uuid": "8f2839f25d086af736a60e9eeb907d3b93b6e0e5",
        "_cell_guid": "b1076dfc-b9ad-4769-8c92-a6c4dae69d19",
        "trusted": true,
        "id": "d-ub_h7Lc6II"
      },
      "outputs": [],
      "execution_count": null
    },
    {
      "cell_type": "markdown",
      "source": [
        "# 1. Setup the Environment"
      ],
      "metadata": {
        "id": "BBMSfhHhc6IJ"
      }
    },
    {
      "cell_type": "markdown",
      "source": [
        "Transformers: For loading and fine-tuning the pre-trained RoBERTa model.\n",
        "\n",
        "Datasets: For loading the MasakhaNER dataset.\n",
        "\n",
        "Seqeval: For evaluating NER tasks (accuracy, precision, recall, F1-score)."
      ],
      "metadata": {
        "id": "WK2Mar1Qc6IK"
      }
    },
    {
      "cell_type": "code",
      "source": [
        "pip install transformers datasets seqeval"
      ],
      "metadata": {
        "trusted": true,
        "execution": {
          "iopub.status.busy": "2025-02-21T12:34:09.856287Z",
          "iopub.execute_input": "2025-02-21T12:34:09.856747Z",
          "iopub.status.idle": "2025-02-21T12:34:19.984470Z",
          "shell.execute_reply.started": "2025-02-21T12:34:09.856701Z",
          "shell.execute_reply": "2025-02-21T12:34:19.983177Z"
        },
        "collapsed": true,
        "jupyter": {
          "outputs_hidden": true
        },
        "colab": {
          "base_uri": "https://localhost:8080/"
        },
        "id": "o1J8x3ujc6IK",
        "outputId": "a562e10a-59ee-419f-f180-6b9c248bd0a7"
      },
      "outputs": [
        {
          "output_type": "stream",
          "name": "stdout",
          "text": [
            "Requirement already satisfied: transformers in /usr/local/lib/python3.11/dist-packages (4.48.3)\n",
            "Requirement already satisfied: datasets in /usr/local/lib/python3.11/dist-packages (3.3.2)\n",
            "Requirement already satisfied: seqeval in /usr/local/lib/python3.11/dist-packages (1.2.2)\n",
            "Requirement already satisfied: filelock in /usr/local/lib/python3.11/dist-packages (from transformers) (3.17.0)\n",
            "Requirement already satisfied: huggingface-hub<1.0,>=0.24.0 in /usr/local/lib/python3.11/dist-packages (from transformers) (0.28.1)\n",
            "Requirement already satisfied: numpy>=1.17 in /usr/local/lib/python3.11/dist-packages (from transformers) (1.26.4)\n",
            "Requirement already satisfied: packaging>=20.0 in /usr/local/lib/python3.11/dist-packages (from transformers) (24.2)\n",
            "Requirement already satisfied: pyyaml>=5.1 in /usr/local/lib/python3.11/dist-packages (from transformers) (6.0.2)\n",
            "Requirement already satisfied: regex!=2019.12.17 in /usr/local/lib/python3.11/dist-packages (from transformers) (2024.11.6)\n",
            "Requirement already satisfied: requests in /usr/local/lib/python3.11/dist-packages (from transformers) (2.32.3)\n",
            "Requirement already satisfied: tokenizers<0.22,>=0.21 in /usr/local/lib/python3.11/dist-packages (from transformers) (0.21.0)\n",
            "Requirement already satisfied: safetensors>=0.4.1 in /usr/local/lib/python3.11/dist-packages (from transformers) (0.5.2)\n",
            "Requirement already satisfied: tqdm>=4.27 in /usr/local/lib/python3.11/dist-packages (from transformers) (4.67.1)\n",
            "Requirement already satisfied: pyarrow>=15.0.0 in /usr/local/lib/python3.11/dist-packages (from datasets) (18.1.0)\n",
            "Requirement already satisfied: dill<0.3.9,>=0.3.0 in /usr/local/lib/python3.11/dist-packages (from datasets) (0.3.8)\n",
            "Requirement already satisfied: pandas in /usr/local/lib/python3.11/dist-packages (from datasets) (2.2.2)\n",
            "Requirement already satisfied: xxhash in /usr/local/lib/python3.11/dist-packages (from datasets) (3.5.0)\n",
            "Requirement already satisfied: multiprocess<0.70.17 in /usr/local/lib/python3.11/dist-packages (from datasets) (0.70.16)\n",
            "Requirement already satisfied: fsspec<=2024.12.0,>=2023.1.0 in /usr/local/lib/python3.11/dist-packages (from fsspec[http]<=2024.12.0,>=2023.1.0->datasets) (2024.10.0)\n",
            "Requirement already satisfied: aiohttp in /usr/local/lib/python3.11/dist-packages (from datasets) (3.11.12)\n",
            "Requirement already satisfied: scikit-learn>=0.21.3 in /usr/local/lib/python3.11/dist-packages (from seqeval) (1.6.1)\n",
            "Requirement already satisfied: aiohappyeyeballs>=2.3.0 in /usr/local/lib/python3.11/dist-packages (from aiohttp->datasets) (2.4.6)\n",
            "Requirement already satisfied: aiosignal>=1.1.2 in /usr/local/lib/python3.11/dist-packages (from aiohttp->datasets) (1.3.2)\n",
            "Requirement already satisfied: attrs>=17.3.0 in /usr/local/lib/python3.11/dist-packages (from aiohttp->datasets) (25.1.0)\n",
            "Requirement already satisfied: frozenlist>=1.1.1 in /usr/local/lib/python3.11/dist-packages (from aiohttp->datasets) (1.5.0)\n",
            "Requirement already satisfied: multidict<7.0,>=4.5 in /usr/local/lib/python3.11/dist-packages (from aiohttp->datasets) (6.1.0)\n",
            "Requirement already satisfied: propcache>=0.2.0 in /usr/local/lib/python3.11/dist-packages (from aiohttp->datasets) (0.3.0)\n",
            "Requirement already satisfied: yarl<2.0,>=1.17.0 in /usr/local/lib/python3.11/dist-packages (from aiohttp->datasets) (1.18.3)\n",
            "Requirement already satisfied: typing-extensions>=3.7.4.3 in /usr/local/lib/python3.11/dist-packages (from huggingface-hub<1.0,>=0.24.0->transformers) (4.12.2)\n",
            "Requirement already satisfied: charset-normalizer<4,>=2 in /usr/local/lib/python3.11/dist-packages (from requests->transformers) (3.4.1)\n",
            "Requirement already satisfied: idna<4,>=2.5 in /usr/local/lib/python3.11/dist-packages (from requests->transformers) (3.10)\n",
            "Requirement already satisfied: urllib3<3,>=1.21.1 in /usr/local/lib/python3.11/dist-packages (from requests->transformers) (2.3.0)\n",
            "Requirement already satisfied: certifi>=2017.4.17 in /usr/local/lib/python3.11/dist-packages (from requests->transformers) (2025.1.31)\n",
            "Requirement already satisfied: scipy>=1.6.0 in /usr/local/lib/python3.11/dist-packages (from scikit-learn>=0.21.3->seqeval) (1.13.1)\n",
            "Requirement already satisfied: joblib>=1.2.0 in /usr/local/lib/python3.11/dist-packages (from scikit-learn>=0.21.3->seqeval) (1.4.2)\n",
            "Requirement already satisfied: threadpoolctl>=3.1.0 in /usr/local/lib/python3.11/dist-packages (from scikit-learn>=0.21.3->seqeval) (3.5.0)\n",
            "Requirement already satisfied: python-dateutil>=2.8.2 in /usr/local/lib/python3.11/dist-packages (from pandas->datasets) (2.8.2)\n",
            "Requirement already satisfied: pytz>=2020.1 in /usr/local/lib/python3.11/dist-packages (from pandas->datasets) (2025.1)\n",
            "Requirement already satisfied: tzdata>=2022.7 in /usr/local/lib/python3.11/dist-packages (from pandas->datasets) (2025.1)\n",
            "Requirement already satisfied: six>=1.5 in /usr/local/lib/python3.11/dist-packages (from python-dateutil>=2.8.2->pandas->datasets) (1.17.0)\n"
          ]
        }
      ],
      "execution_count": null
    },
    {
      "cell_type": "markdown",
      "source": [
        "# Load the Dataset\n",
        "Load the MasakhaNER dataset, which contains Swahili text annotated with named entities. Load the MasakhaNER dataset with trust_remote_code=True, This ensures that the dataset is loaded without requiring manual confirmation."
      ],
      "metadata": {
        "id": "dakRPBW7c6IK"
      }
    },
    {
      "cell_type": "code",
      "source": [
        "from datasets import load_dataset\n",
        "\n",
        "# Load the MasakhaNER dataset with trust_remote_code=True\n",
        "dataset = load_dataset(\"masakhaner\", \"swa\", trust_remote_code=True)\n",
        "\n",
        "print(dataset)"
      ],
      "metadata": {
        "trusted": true,
        "execution": {
          "iopub.status.busy": "2025-02-21T12:35:15.736581Z",
          "iopub.execute_input": "2025-02-21T12:35:15.737000Z",
          "iopub.status.idle": "2025-02-21T12:35:21.555468Z",
          "shell.execute_reply.started": "2025-02-21T12:35:15.736969Z",
          "shell.execute_reply": "2025-02-21T12:35:21.554481Z"
        },
        "colab": {
          "base_uri": "https://localhost:8080/"
        },
        "id": "hzHD4qxOc6IK",
        "outputId": "6b243777-6347-458b-cb31-372f7f409704"
      },
      "outputs": [
        {
          "output_type": "stream",
          "name": "stdout",
          "text": [
            "DatasetDict({\n",
            "    train: Dataset({\n",
            "        features: ['id', 'tokens', 'ner_tags'],\n",
            "        num_rows: 2109\n",
            "    })\n",
            "    validation: Dataset({\n",
            "        features: ['id', 'tokens', 'ner_tags'],\n",
            "        num_rows: 300\n",
            "    })\n",
            "    test: Dataset({\n",
            "        features: ['id', 'tokens', 'ner_tags'],\n",
            "        num_rows: 604\n",
            "    })\n",
            "})\n"
          ]
        }
      ],
      "execution_count": null
    },
    {
      "cell_type": "code",
      "source": [
        "# Print the first five elements separately\n",
        "for i in range(10):\n",
        "    print(dataset[\"train\"][i])"
      ],
      "metadata": {
        "colab": {
          "base_uri": "https://localhost:8080/"
        },
        "id": "w2id9dOhNtpb",
        "outputId": "0649a1ea-15ce-4945-bc92-bb2bf2e4db87"
      },
      "execution_count": null,
      "outputs": [
        {
          "output_type": "stream",
          "name": "stdout",
          "text": [
            "{'id': '0', 'tokens': ['Wizara', 'ya', 'afya', 'ya', 'Tanzania', 'imeripoti', 'Jumatatu', 'kuwa', ',', 'watu', 'takriban', '14', 'zaidi', 'wamepata', 'maambukizi', 'ya', 'Covid', '-', '19', '.'], 'ner_tags': [3, 4, 4, 4, 4, 0, 7, 0, 0, 0, 0, 0, 0, 0, 0, 0, 0, 0, 0, 0]}\n",
            "{'id': '1', 'tokens': ['Walioambukizwa', 'wote', 'ni', 'raia', 'wa', 'Tanzania', ',', '13', 'wakiwa', 'Dar', '-', 'es', '-', 'salaam', 'na', 'mmoja', 'mjini', 'Arusha', '.'], 'ner_tags': [0, 0, 0, 0, 0, 5, 0, 0, 0, 5, 6, 6, 6, 6, 0, 0, 0, 5, 0]}\n",
            "{'id': '2', 'tokens': ['Wizara', 'ya', 'afya', 'imeripoti', 'kwamba', 'juhudi', 'za', 'kufuatilia', 'watu', 'waliokuwa', 'karibu', 'na', 'wagonjwa', 'zinaendelea', '.'], 'ner_tags': [0, 0, 0, 0, 0, 0, 0, 0, 0, 0, 0, 0, 0, 0, 0]}\n",
            "{'id': '3', 'tokens': ['Wakati', 'wa', 'maadimisho', 'ya', 'pasaka', ',', 'wakristo', 'walikusanyika', 'kanisani', 'kwa', 'maombi', 'bila', 'kuzingatia', 'ushauri', 'wa', 'wataalam', 'wa', 'afya', '.'], 'ner_tags': [0, 0, 0, 0, 0, 0, 0, 0, 0, 0, 0, 0, 0, 0, 0, 0, 0, 0, 0]}\n",
            "{'id': '4', 'tokens': ['Kuna', 'mijadala', 'kwenye', 'mitandao', 'ya', 'kijamii', 'Tanzania', ',', 'kuhusu', 'hatua', 'zinazochukuliwa', 'kudhibithi', 'maambukizi', 'nchini', 'humo', '.'], 'ner_tags': [0, 0, 0, 0, 0, 0, 5, 0, 0, 0, 0, 0, 0, 0, 0, 0]}\n",
            "{'id': '5', 'tokens': ['Nchini', 'Afrika', 'kusini', 'watu', '145', 'zaidi', ',', 'wameambukizwa', 'virusi', 'vya', 'Corona', ',', 'na', 'kujumulisha', 'idadi', 'ya', 'watu', '2', ',', '173', 'ambao', 'wameambukizwa', 'virusi', 'vya', 'Corona', 'nchini', 'humo', '.'], 'ner_tags': [0, 5, 6, 0, 0, 0, 0, 0, 0, 0, 0, 0, 0, 0, 0, 0, 0, 0, 0, 0, 0, 0, 0, 0, 0, 0, 0, 0]}\n",
            "{'id': '6', 'tokens': ['Taarifa', 'ya', 'wizara', 'ya', 'afya', 'hata', 'hivyo', 'haijasema', 'idadi', 'ya', 'watu', 'ambao', 'wamekufa', 'wala', 'kupona', 'kutokana', 'na', 'virusi', 'vya', 'Corona', 'nchini', 'humo', '.'], 'ner_tags': [0, 0, 0, 0, 0, 0, 0, 0, 0, 0, 0, 0, 0, 0, 0, 0, 0, 0, 0, 0, 0, 0, 0]}\n",
            "{'id': '7', 'tokens': ['Nchini', 'Sudan', ',', 'maafisa', 'wameongeza', 'mikakati', 'zaidi', 'ya', 'kuzuia', 'virusi', 'vya', 'Corona', 'kusambaa', '.'], 'ner_tags': [0, 5, 0, 0, 0, 0, 0, 0, 0, 0, 0, 0, 0, 0]}\n",
            "{'id': '8', 'tokens': ['Wamepiga', 'marufuku', 'usafiri', 'wa', 'magari', 'kati', 'ya', 'miji', 'na', 'kutekeleza', 'sheria', 'za', 'hali', 'ya', 'dharura', 'ili', 'kuhakikisha', 'kwamba', 'amri', 'hizo', 'zinatekelezwa', '.'], 'ner_tags': [0, 0, 0, 0, 0, 0, 0, 0, 0, 0, 0, 0, 0, 0, 0, 0, 0, 0, 0, 0, 0, 0]}\n",
            "{'id': '9', 'tokens': ['Jumla', 'ya', 'watu', '19', 'wamethibitishwa', 'kuambukizwa', 'virusi', 'vya', 'Corona', 'nchini', 'Sudan', 'kusini', '.'], 'ner_tags': [0, 0, 0, 0, 0, 0, 0, 0, 0, 0, 5, 6, 0]}\n"
          ]
        }
      ]
    },
    {
      "cell_type": "markdown",
      "source": [
        "# Preprocess the Data\n",
        "Convert the dataset into a format suitable for the RoBERTa model. This involves tokenizing the text and aligning the labels with the tokenized input.\n",
        "Explanation of add_prefix_space=True\n",
        "Why is it needed? RoBERTa tokenizers treat spaces as part of the tokenization process. When working with pretokenized inputs (e.g., a list of words), the tokenizer needs to know that each word is prefixed with a space (except the first word). Setting add_prefix_space=True ensures that the tokenizer correctly handles this.\n",
        "\n",
        "When to use it? Always use add_prefix_space=True when your input is already split into words or tokens (e.g., examples MasakhaNER dataset)."
      ],
      "metadata": {
        "id": "O8S5ucubc6IL"
      }
    },
    {
      "cell_type": "code",
      "source": [
        "def tokenize_and_align_labels(examples):\n",
        "    # Tokenize the input tokens\n",
        "    tokenized_inputs = tokenizer(\n",
        "        examples[\"tokens\"],\n",
        "        truncation=True,\n",
        "        padding=\"max_length\",\n",
        "        max_length=128,\n",
        "        is_split_into_words=True\n",
        "    )\n",
        "\n",
        "    # Align labels with tokenized input\n",
        "    labels = []\n",
        "    word_ids_list = []  # Store word_ids for each example\n",
        "\n",
        "    for i, label in enumerate(examples[\"ner_tags\"]):\n",
        "        word_ids = tokenized_inputs.word_ids(batch_index=i)  # Map tokens to their respective words\n",
        "        previous_word_idx = None\n",
        "        label_ids = []\n",
        "\n",
        "        for word_idx in word_ids:\n",
        "            if word_idx is None:\n",
        "                label_ids.append(-100)  # Special token (e.g., [CLS], [SEP])\n",
        "            elif word_idx != previous_word_idx:\n",
        "                label_ids.append(label[word_idx])  # New word\n",
        "            else:\n",
        "                label_ids.append(-100)  # Subword of the same word\n",
        "            previous_word_idx = word_idx\n",
        "\n",
        "        labels.append(label_ids)\n",
        "        word_ids_list.append(word_ids)  # Save word_ids for later use\n",
        "\n",
        "    # Add the original \"tokens\" field and \"word_ids\" field to the tokenized dataset\n",
        "    tokenized_inputs[\"original_tokens\"] = examples[\"tokens\"]\n",
        "    tokenized_inputs[\"labels\"] = labels\n",
        "    tokenized_inputs[\"word_ids\"] = word_ids_list  # Add word_ids field\n",
        "\n",
        "    return tokenized_inputs"
      ],
      "metadata": {
        "trusted": true,
        "execution": {
          "iopub.status.busy": "2025-02-21T12:43:27.792110Z",
          "iopub.execute_input": "2025-02-21T12:43:27.792456Z",
          "iopub.status.idle": "2025-02-21T12:43:29.031098Z",
          "shell.execute_reply.started": "2025-02-21T12:43:27.792429Z",
          "shell.execute_reply": "2025-02-21T12:43:29.030093Z"
        },
        "id": "wNhL4DXyc6IL"
      },
      "outputs": [],
      "execution_count": 36
    },
    {
      "cell_type": "code",
      "source": [
        "# Apply tokenization to the dataset\n",
        "tokenized_datasets = dataset.map(tokenize_and_align_labels, batched=True)\n",
        "\n",
        "# Check the result after tokenization\n",
        "print(tokenized_datasets[\"test\"].features)"
      ],
      "metadata": {
        "colab": {
          "base_uri": "https://localhost:8080/",
          "height": 150,
          "referenced_widgets": [
            "07df30a0496b4abbbbcf4d9e6fb1f357",
            "cab15355587b48c5803540a6875b2c87",
            "78ce255b78bf41e6a4a8d96eda32f9c4",
            "fdd20e63059f4774a8ea186de63eddb1",
            "ea34f1021ad440bf9173cb8792a5dd0c",
            "8d3e151e5c4945729533106ba70389e4",
            "015ab6bed5d940fb9bedd84565eb6460",
            "4042b6501bcd4498aa032e28a436540f",
            "d254dda32b9e4467ab04332e5c141fa5",
            "dd9e7397af3044b6a25fdc66a934f067",
            "2c5c4f0b5ed6485e9e5b14b7572bf913",
            "03680991c4e044d9bdc574961bb7c720",
            "7c5b5ca2d5ff45cd91e3bdf70c602bba",
            "6ec29ccd230c4231bf63554bbebd1f80",
            "9d116dc321254ec9885a77d92a641f90",
            "e015c177a9eb426fadbe999f667a0a20",
            "b466abf608b8494086a00145e2a63572",
            "7851ca7b8db24c489576e191aaf2b9e8",
            "717718a49a764065957e166ecc6b07f3",
            "19d778462e9e442f946f95f45e1446bb",
            "0ba59561fb334596a68a37b5e0ee8dcb",
            "206ce4aa70164c1b8565aaa1f06e4823",
            "01c83766f77a47aba7269bc41aadc453",
            "dbb092e947f64e5cb5f56b60336f34dc",
            "1ef8292c7d6c45d796c94cb2d35d97eb",
            "e00f92436b73471397138ebf92f0ab23",
            "442db08002884a66a32879460dafcbbc",
            "6f28ac4236ee4d1e80574a068544d5aa",
            "989adcda943d41c187807372f83da5b3",
            "7d5edc0e42ab426ebe9b04a505b7f8a3",
            "1c8916395a4d4493931742effbac5472",
            "f47a26e7b1f34f248a22f08ff0a4b3d9",
            "98249e6105b74d329da3e46b5c143245"
          ]
        },
        "id": "sSiiIFRLs75h",
        "outputId": "fe583e4a-bac6-42af-d1db-308b3fec0d40"
      },
      "execution_count": 37,
      "outputs": [
        {
          "output_type": "display_data",
          "data": {
            "text/plain": [
              "Map:   0%|          | 0/2109 [00:00<?, ? examples/s]"
            ],
            "application/vnd.jupyter.widget-view+json": {
              "version_major": 2,
              "version_minor": 0,
              "model_id": "07df30a0496b4abbbbcf4d9e6fb1f357"
            }
          },
          "metadata": {}
        },
        {
          "output_type": "display_data",
          "data": {
            "text/plain": [
              "Map:   0%|          | 0/300 [00:00<?, ? examples/s]"
            ],
            "application/vnd.jupyter.widget-view+json": {
              "version_major": 2,
              "version_minor": 0,
              "model_id": "03680991c4e044d9bdc574961bb7c720"
            }
          },
          "metadata": {}
        },
        {
          "output_type": "display_data",
          "data": {
            "text/plain": [
              "Map:   0%|          | 0/604 [00:00<?, ? examples/s]"
            ],
            "application/vnd.jupyter.widget-view+json": {
              "version_major": 2,
              "version_minor": 0,
              "model_id": "01c83766f77a47aba7269bc41aadc453"
            }
          },
          "metadata": {}
        },
        {
          "output_type": "stream",
          "name": "stdout",
          "text": [
            "{'id': Value(dtype='string', id=None), 'tokens': Sequence(feature=Value(dtype='string', id=None), length=-1, id=None), 'ner_tags': Sequence(feature=ClassLabel(names=['O', 'B-PER', 'I-PER', 'B-ORG', 'I-ORG', 'B-LOC', 'I-LOC', 'B-DATE', 'I-DATE'], id=None), length=-1, id=None), 'input_ids': Sequence(feature=Value(dtype='int32', id=None), length=-1, id=None), 'attention_mask': Sequence(feature=Value(dtype='int8', id=None), length=-1, id=None), 'original_tokens': Sequence(feature=Value(dtype='string', id=None), length=-1, id=None), 'labels': Sequence(feature=Value(dtype='int64', id=None), length=-1, id=None), 'word_ids': Sequence(feature=Value(dtype='int64', id=None), length=-1, id=None)}\n"
          ]
        }
      ]
    },
    {
      "cell_type": "markdown",
      "source": [
        "# Dataset Statistics\n",
        "This visualization shows the number of examples in the train, validation, and test sets."
      ],
      "metadata": {
        "id": "u9YtFn4T6AaF"
      }
    },
    {
      "cell_type": "code",
      "source": [
        "import matplotlib.pyplot as plt\n",
        "import numpy as np\n",
        "\n",
        "# Dataset statistics\n",
        "dataset_sizes = {\n",
        "    'Train': 2109,\n",
        "    'Validation': 300,\n",
        "    'Test': 604\n",
        "}\n",
        "\n",
        "# Bar chart\n",
        "categories = list(dataset_sizes.keys())\n",
        "values = list(dataset_sizes.values())\n",
        "\n",
        "plt.figure(figsize=(8, 5))\n",
        "plt.bar(categories, values, color=['blue', 'green', 'orange'])\n",
        "plt.title('Dataset Statistics')\n",
        "plt.ylabel('Number of Examples')\n",
        "plt.xlabel('Dataset Split')\n",
        "plt.grid(axis='y', linestyle='--', alpha=0.7)\n",
        "plt.show()"
      ],
      "metadata": {
        "colab": {
          "base_uri": "https://localhost:8080/",
          "height": 487
        },
        "id": "od0Agogk581m",
        "outputId": "4a5dae73-eaa1-408c-f729-4b27ccba469b"
      },
      "execution_count": null,
      "outputs": [
        {
          "output_type": "display_data",
          "data": {
            "text/plain": [
              "<Figure size 800x500 with 1 Axes>"
            ],
            "image/png": "[encoded data removed]"
          },
          "metadata": {}
        }
      ]
    },
    {
      "cell_type": "markdown",
      "source": [
        "# Prepare the Dataset for PyTorch\n",
        "Make sure your dataset is properly formatted for the Trainer:"
      ],
      "metadata": {
        "id": "7z7WWEveuzsN"
      }
    },
    {
      "cell_type": "code",
      "source": [
        "tokenized_datasets.set_format(\n",
        "    type=\"torch\",\n",
        "    columns=[\"input_ids\", \"attention_mask\", \"labels\"]\n",
        ")"
      ],
      "metadata": {
        "id": "i158GYEDt-u5"
      },
      "execution_count": null,
      "outputs": []
    },
    {
      "cell_type": "markdown",
      "source": [
        "Load the model"
      ],
      "metadata": {
        "id": "hPdv_sOU3FSP"
      }
    },
    {
      "cell_type": "code",
      "source": [
        "pip install evaluate"
      ],
      "metadata": {
        "colab": {
          "base_uri": "https://localhost:8080/"
        },
        "collapsed": true,
        "id": "hIK42uAavJNF",
        "outputId": "7b181f01-7bc7-4ef4-f994-ca9a980be643"
      },
      "execution_count": null,
      "outputs": [
        {
          "output_type": "stream",
          "name": "stdout",
          "text": [
            "Collecting evaluate\n",
            "  Downloading evaluate-0.4.3-py3-none-any.whl.metadata (9.2 kB)\n",
            "Requirement already satisfied: datasets>=2.0.0 in /usr/local/lib/python3.11/dist-packages (from evaluate) (3.3.2)\n",
            "Requirement already satisfied: numpy>=1.17 in /usr/local/lib/python3.11/dist-packages (from evaluate) (1.26.4)\n",
            "Requirement already satisfied: dill in /usr/local/lib/python3.11/dist-packages (from evaluate) (0.3.8)\n",
            "Requirement already satisfied: pandas in /usr/local/lib/python3.11/dist-packages (from evaluate) (2.2.2)\n",
            "Requirement already satisfied: requests>=2.19.0 in /usr/local/lib/python3.11/dist-packages (from evaluate) (2.32.3)\n",
            "Requirement already satisfied: tqdm>=4.62.1 in /usr/local/lib/python3.11/dist-packages (from evaluate) (4.67.1)\n",
            "Requirement already satisfied: xxhash in /usr/local/lib/python3.11/dist-packages (from evaluate) (3.5.0)\n",
            "Requirement already satisfied: multiprocess in /usr/local/lib/python3.11/dist-packages (from evaluate) (0.70.16)\n",
            "Requirement already satisfied: fsspec>=2021.05.0 in /usr/local/lib/python3.11/dist-packages (from fsspec[http]>=2021.05.0->evaluate) (2024.10.0)\n",
            "Requirement already satisfied: huggingface-hub>=0.7.0 in /usr/local/lib/python3.11/dist-packages (from evaluate) (0.28.1)\n",
            "Requirement already satisfied: packaging in /usr/local/lib/python3.11/dist-packages (from evaluate) (24.2)\n",
            "Requirement already satisfied: filelock in /usr/local/lib/python3.11/dist-packages (from datasets>=2.0.0->evaluate) (3.17.0)\n",
            "Requirement already satisfied: pyarrow>=15.0.0 in /usr/local/lib/python3.11/dist-packages (from datasets>=2.0.0->evaluate) (18.1.0)\n",
            "Requirement already satisfied: aiohttp in /usr/local/lib/python3.11/dist-packages (from datasets>=2.0.0->evaluate) (3.11.12)\n",
            "Requirement already satisfied: pyyaml>=5.1 in /usr/local/lib/python3.11/dist-packages (from datasets>=2.0.0->evaluate) (6.0.2)\n",
            "Requirement already satisfied: typing-extensions>=3.7.4.3 in /usr/local/lib/python3.11/dist-packages (from huggingface-hub>=0.7.0->evaluate) (4.12.2)\n",
            "Requirement already satisfied: charset-normalizer<4,>=2 in /usr/local/lib/python3.11/dist-packages (from requests>=2.19.0->evaluate) (3.4.1)\n",
            "Requirement already satisfied: idna<4,>=2.5 in /usr/local/lib/python3.11/dist-packages (from requests>=2.19.0->evaluate) (3.10)\n",
            "Requirement already satisfied: urllib3<3,>=1.21.1 in /usr/local/lib/python3.11/dist-packages (from requests>=2.19.0->evaluate) (2.3.0)\n",
            "Requirement already satisfied: certifi>=2017.4.17 in /usr/local/lib/python3.11/dist-packages (from requests>=2.19.0->evaluate) (2025.1.31)\n",
            "Requirement already satisfied: python-dateutil>=2.8.2 in /usr/local/lib/python3.11/dist-packages (from pandas->evaluate) (2.8.2)\n",
            "Requirement already satisfied: pytz>=2020.1 in /usr/local/lib/python3.11/dist-packages (from pandas->evaluate) (2025.1)\n",
            "Requirement already satisfied: tzdata>=2022.7 in /usr/local/lib/python3.11/dist-packages (from pandas->evaluate) (2025.1)\n",
            "Requirement already satisfied: aiohappyeyeballs>=2.3.0 in /usr/local/lib/python3.11/dist-packages (from aiohttp->datasets>=2.0.0->evaluate) (2.4.6)\n",
            "Requirement already satisfied: aiosignal>=1.1.2 in /usr/local/lib/python3.11/dist-packages (from aiohttp->datasets>=2.0.0->evaluate) (1.3.2)\n",
            "Requirement already satisfied: attrs>=17.3.0 in /usr/local/lib/python3.11/dist-packages (from aiohttp->datasets>=2.0.0->evaluate) (25.1.0)\n",
            "Requirement already satisfied: frozenlist>=1.1.1 in /usr/local/lib/python3.11/dist-packages (from aiohttp->datasets>=2.0.0->evaluate) (1.5.0)\n",
            "Requirement already satisfied: multidict<7.0,>=4.5 in /usr/local/lib/python3.11/dist-packages (from aiohttp->datasets>=2.0.0->evaluate) (6.1.0)\n",
            "Requirement already satisfied: propcache>=0.2.0 in /usr/local/lib/python3.11/dist-packages (from aiohttp->datasets>=2.0.0->evaluate) (0.3.0)\n",
            "Requirement already satisfied: yarl<2.0,>=1.17.0 in /usr/local/lib/python3.11/dist-packages (from aiohttp->datasets>=2.0.0->evaluate) (1.18.3)\n",
            "Requirement already satisfied: six>=1.5 in /usr/local/lib/python3.11/dist-packages (from python-dateutil>=2.8.2->pandas->evaluate) (1.17.0)\n",
            "Downloading evaluate-0.4.3-py3-none-any.whl (84 kB)\n",
            "\u001b[2K   \u001b[90m━━━━━━━━━━━━━━━━━━━━━━━━━━━━━━━━━━━━━━━━\u001b[0m \u001b[32m84.0/84.0 kB\u001b[0m \u001b[31m5.1 MB/s\u001b[0m eta \u001b[36m0:00:00\u001b[0m\n",
            "\u001b[?25hInstalling collected packages: evaluate\n",
            "Successfully installed evaluate-0.4.3\n"
          ]
        }
      ]
    },
    {
      "cell_type": "code",
      "source": [
        "import evaluate\n",
        "# Define the model\n",
        "model = AutoModelForTokenClassification.from_pretrained(\n",
        "    \"benjamin/roberta-base-wechsel-swahili\",\n",
        "    num_labels=len(tokenized_datasets[\"train\"].features[\"ner_tags\"].feature.names)\n",
        ")\n",
        "\n",
        "# Define the metric\n",
        "metric = evaluate.load(\"seqeval\")  # Using evaluate to load the seqeval metric\n",
        "\n",
        "# Ensure that the model has a mapping for the labels\n",
        "label_list = tokenized_datasets[\"train\"].features[\"ner_tags\"].feature.names\n",
        "id2label = {i: label for i, label in enumerate(label_list)}\n",
        "label2id = {v: k for k, v in id2label.items()}\n",
        "\n",
        "# Define data collator to handle padding\n",
        "data_collator = DataCollatorForTokenClassification(tokenizer=tokenizer)"
      ],
      "metadata": {
        "colab": {
          "base_uri": "https://localhost:8080/",
          "height": 104,
          "referenced_widgets": [
            "415c4ecc0acc4abdb76bae798e2b7fa6",
            "8343dd6df6fc4e608257bfeca44b2f9b",
            "2982ff76d83142698c303c722f6ddf35",
            "7fd33320739f4e5eac4aacb0f7a2ec94",
            "0c5e28fc22704403a72c6ffac685b3dc",
            "c552d8d385a1498996135cd9caed4917",
            "568a6a47af9a41c588e30e1eaa1eba72",
            "b5556171740d49899af9cfb33bcf6422",
            "b4b98324dad546edb2926f1fe87e8cd7",
            "4c88d44289bc44938bfd8ba64c57879c",
            "6a832c4815aa4d1baf5bf15049ee56a5"
          ]
        },
        "id": "dOsqlkOY3EC3",
        "outputId": "1bb1918c-fa83-48ef-b6e4-e21b693af291"
      },
      "execution_count": null,
      "outputs": [
        {
          "output_type": "stream",
          "name": "stderr",
          "text": [
            "Some weights of RobertaForTokenClassification were not initialized from the model checkpoint at benjamin/roberta-base-wechsel-swahili and are newly initialized: ['classifier.bias', 'classifier.weight']\n",
            "You should probably TRAIN this model on a down-stream task to be able to use it for predictions and inference.\n"
          ]
        },
        {
          "output_type": "display_data",
          "data": {
            "text/plain": [
              "Downloading builder script:   0%|          | 0.00/6.34k [00:00<?, ?B/s]"
            ],
            "application/vnd.jupyter.widget-view+json": {
              "version_major": 2,
              "version_minor": 0,
              "model_id": "415c4ecc0acc4abdb76bae798e2b7fa6"
            }
          },
          "metadata": {}
        }
      ]
    },
    {
      "cell_type": "markdown",
      "source": [
        "# Evaluation Metrics"
      ],
      "metadata": {
        "id": "jGrTg99eupid"
      }
    },
    {
      "cell_type": "code",
      "source": [
        "pip install seqeval"
      ],
      "metadata": {
        "colab": {
          "base_uri": "https://localhost:8080/"
        },
        "collapsed": true,
        "id": "xx3TlbrlvOS-",
        "outputId": "a0ee711e-6ff3-4efd-d158-55cef0dbcbeb"
      },
      "execution_count": null,
      "outputs": [
        {
          "output_type": "stream",
          "name": "stdout",
          "text": [
            "Requirement already satisfied: seqeval in /usr/local/lib/python3.11/dist-packages (1.2.2)\n",
            "Requirement already satisfied: numpy>=1.14.0 in /usr/local/lib/python3.11/dist-packages (from seqeval) (1.26.4)\n",
            "Requirement already satisfied: scikit-learn>=0.21.3 in /usr/local/lib/python3.11/dist-packages (from seqeval) (1.6.1)\n",
            "Requirement already satisfied: scipy>=1.6.0 in /usr/local/lib/python3.11/dist-packages (from scikit-learn>=0.21.3->seqeval) (1.13.1)\n",
            "Requirement already satisfied: joblib>=1.2.0 in /usr/local/lib/python3.11/dist-packages (from scikit-learn>=0.21.3->seqeval) (1.4.2)\n",
            "Requirement already satisfied: threadpoolctl>=3.1.0 in /usr/local/lib/python3.11/dist-packages (from scikit-learn>=0.21.3->seqeval) (3.5.0)\n"
          ]
        }
      ]
    },
    {
      "cell_type": "code",
      "source": [
        "import numpy as np\n",
        "import evaluate\n",
        "\n",
        "\n",
        "# Define the metric\n",
        "metric = evaluate.load(\"seqeval\")  # Using evaluate to load the seqeval metric\n",
        "\n",
        "# Ensure that the model has a mapping for the labels\n",
        "label_list = tokenized_datasets[\"train\"].features[\"ner_tags\"].feature.names\n",
        "id2label = {i: label for i, label in enumerate(label_list)}\n",
        "label2id = {v: k for k, v in id2label.items()}\n",
        "\n",
        "# Define data collator to handle padding\n",
        "data_collator = DataCollatorForTokenClassification(tokenizer=tokenizer)\n",
        "\n",
        "# Function to compute metrics\n",
        "def compute_metrics(p):\n",
        "    predictions, labels = p\n",
        "    predictions = np.argmax(predictions, axis=-1)  # Get the predicted label indices\n",
        "\n",
        "    # Remove padding tokens (label=-100 for padding tokens)\n",
        "    true_predictions = [\n",
        "        [label_list[p] for (p, l) in zip(prediction, label) if l != -100]\n",
        "        for prediction, label in zip(predictions, labels)\n",
        "    ]\n",
        "    true_labels = [\n",
        "        [label_list[l] for l in label if l != -100]\n",
        "        for label in labels\n",
        "    ]\n",
        "\n",
        "    return metric.compute(predictions=true_predictions, references=true_labels)"
      ],
      "metadata": {
        "id": "0Ej9aPcbuGKO"
      },
      "execution_count": null,
      "outputs": []
    },
    {
      "cell_type": "markdown",
      "source": [
        "# Model and Training Arguments"
      ],
      "metadata": {
        "id": "KXGCPQmEuvQd"
      }
    },
    {
      "cell_type": "code",
      "source": [
        "# Define training arguments\n",
        "training_args = TrainingArguments(\n",
        "    output_dir=\"./results\",               # Save directory\n",
        "    evaluation_strategy=\"epoch\",          # Evaluate after each epoch\n",
        "    save_strategy=\"epoch\",                # Save model after each epoch\n",
        "    logging_dir=\"./logs\",                 # Directory for logs\n",
        "    logging_steps=100,                    # Log every 100 steps\n",
        "    per_device_train_batch_size=16,       # Batch size for training (adjust as needed)\n",
        "    per_device_eval_batch_size=32,        # Batch size for evaluation (adjust as needed)\n",
        "    num_train_epochs=5,                   # Total number of epochs (adjust as needed)\n",
        "    learning_rate=5e-5,                   # Learning rate (adjust as needed)\n",
        "    weight_decay=0.01,                    # Weight decay for regularization\n",
        "    load_best_model_at_end=True,          # Load the best model at the end\n",
        "    metric_for_best_model=\"eval_overall_f1\",  # Use eval_overall_f1 for selecting the best model\n",
        "    warmup_steps=500,                     # Number of warmup steps\n",
        "    logging_first_step=True,              # Log the first step\n",
        ")"
      ],
      "metadata": {
        "colab": {
          "base_uri": "https://localhost:8080/"
        },
        "id": "K_f9M23auBsm",
        "outputId": "202ea242-2b74-4db7-bf1f-ec681097044e"
      },
      "execution_count": null,
      "outputs": [
        {
          "output_type": "stream",
          "name": "stderr",
          "text": [
            "/usr/local/lib/python3.11/dist-packages/transformers/training_args.py:1575: FutureWarning: `evaluation_strategy` is deprecated and will be removed in version 4.46 of 🤗 Transformers. Use `eval_strategy` instead\n",
            "  warnings.warn(\n"
          ]
        }
      ]
    },
    {
      "cell_type": "markdown",
      "source": [
        "# Initialize the Trainer"
      ],
      "metadata": {
        "id": "R1WtFDD6ujC_"
      }
    },
    {
      "cell_type": "code",
      "source": [
        "# Initialize the Trainer\n",
        "trainer = Trainer(\n",
        "    model=model,                           # the model to train\n",
        "    args=training_args,                    # training arguments\n",
        "    data_collator=data_collator,           # data collator\n",
        "    train_dataset=tokenized_datasets[\"train\"],  # training dataset\n",
        "    eval_dataset=tokenized_datasets[\"validation\"],  # evaluation dataset\n",
        "    compute_metrics=compute_metrics,       # custom metrics (precision, recall, F1)\n",
        ")"
      ],
      "metadata": {
        "id": "xqeKwR-WuL3G"
      },
      "execution_count": null,
      "outputs": []
    },
    {
      "cell_type": "markdown",
      "source": [
        "# Verify Dataset Dimensions :\n",
        "After applying the above changes, verify that the dataset has consistent dimensions by inspecting the tokenized data."
      ],
      "metadata": {
        "id": "SNfoYXqQxyBS"
      }
    },
    {
      "cell_type": "code",
      "source": [
        "print(tokenized_datasets[\"train\"].features)"
      ],
      "metadata": {
        "colab": {
          "base_uri": "https://localhost:8080/"
        },
        "id": "hqYbqgR8xvWr",
        "outputId": "037fd32d-953b-4694-8cf2-90771343b479"
      },
      "execution_count": null,
      "outputs": [
        {
          "output_type": "stream",
          "name": "stdout",
          "text": [
            "{'id': Value(dtype='string', id=None), 'tokens': Sequence(feature=Value(dtype='string', id=None), length=-1, id=None), 'ner_tags': Sequence(feature=ClassLabel(names=['O', 'B-PER', 'I-PER', 'B-ORG', 'I-ORG', 'B-LOC', 'I-LOC', 'B-DATE', 'I-DATE'], id=None), length=-1, id=None), 'input_ids': Sequence(feature=Value(dtype='int32', id=None), length=-1, id=None), 'attention_mask': Sequence(feature=Value(dtype='int8', id=None), length=-1, id=None), 'labels': Sequence(feature=Value(dtype='int64', id=None), length=-1, id=None)}\n"
          ]
        }
      ]
    },
    {
      "cell_type": "markdown",
      "source": [
        "# Fine-Tuning"
      ],
      "metadata": {
        "id": "edUSWcSUuWlG"
      }
    },
    {
      "cell_type": "code",
      "source": [
        "trainer.train()"
      ],
      "metadata": {
        "colab": {
          "base_uri": "https://localhost:8080/",
          "height": 1000
        },
        "id": "elH64Vp6uOaW",
        "outputId": "e0d27946-9d2e-4406-c45b-49a8e7d59ea9"
      },
      "execution_count": 25,
      "outputs": [
        {
          "metadata": {
            "tags": null
          },
          "name": "stderr",
          "output_type": "stream",
          "text": [
            "\u001b[34m\u001b[1mwandb\u001b[0m: \u001b[33mWARNING\u001b[0m The `run_name` is currently set to the same value as `TrainingArguments.output_dir`. If this was not intended, please specify a different run name by setting the `TrainingArguments.run_name` parameter.\n",
            "\u001b[34m\u001b[1mwandb\u001b[0m: Using wandb-core as the SDK backend.  Please refer to https://wandb.me/wandb-core for more information.\n"
          ]
        },
        {
          "data": {
            "application/javascript": [
              "\n",
              "        window._wandbApiKey = new Promise((resolve, reject) => {\n",
              "            function loadScript(url) {\n",
              "            return new Promise(function(resolve, reject) {\n",
              "                let newScript = document.createElement(\"script\");\n",
              "                newScript.onerror = reject;\n",
              "                newScript.onload = resolve;\n",
              "                document.body.appendChild(newScript);\n",
              "                newScript.src = url;\n",
              "            });\n",
              "            }\n",
              "            loadScript(\"https://cdn.jsdelivr.net/npm/postmate/build/postmate.min.js\").then(() => {\n",
              "            const iframe = document.createElement('iframe')\n",
              "            iframe.style.cssText = \"width:0;height:0;border:none\"\n",
              "            document.body.appendChild(iframe)\n",
              "            const handshake = new Postmate({\n",
              "                container: iframe,\n",
              "                url: 'https://wandb.ai/authorize'\n",
              "            });\n",
              "            const timeout = setTimeout(() => reject(\"Couldn't auto authenticate\"), 5000)\n",
              "            handshake.then(function(child) {\n",
              "                child.on('authorize', data => {\n",
              "                    clearTimeout(timeout)\n",
              "                    resolve(data)\n",
              "                });\n",
              "            });\n",
              "            })\n",
              "        });\n",
              "    "
            ],
            "text/plain": [
              "<IPython.core.display.Javascript object>"
            ]
          },
          "metadata": {},
          "output_type": "display_data"
        },
        {
          "metadata": {
            "tags": null
          },
          "name": "stderr",
          "output_type": "stream",
          "text": [
            "\u001b[34m\u001b[1mwandb\u001b[0m: Logging into wandb.ai. (Learn how to deploy a W&B server locally: https://wandb.me/wandb-server)\n",
            "\u001b[34m\u001b[1mwandb\u001b[0m: You can find your API key in your browser here: https://wandb.ai/authorize\n",
            "wandb: Paste an API key from your profile and hit enter:\u001b[34m\u001b[1mwandb\u001b[0m: \u001b[33mWARNING\u001b[0m If you're specifying your api key in code, ensure this code is not shared publicly.\n",
            "\u001b[34m\u001b[1mwandb\u001b[0m: \u001b[33mWARNING\u001b[0m Consider setting the WANDB_API_KEY environment variable, or running `wandb login` from the command line.\n",
            "\u001b[34m\u001b[1mwandb\u001b[0m: No netrc file found, creating one.\n",
            "\u001b[34m\u001b[1mwandb\u001b[0m: Appending key for api.wandb.ai to your netrc file: /root/.netrc\n",
            "\u001b[34m\u001b[1mwandb\u001b[0m: Currently logged in as: \u001b[33mzda24m007\u001b[0m (\u001b[33mzda24m007-indian-institute-of-technology-madras\u001b[0m) to \u001b[32mhttps://api.wandb.ai\u001b[0m. Use \u001b[1m`wandb login --relogin`\u001b[0m to force relogin\n"
          ]
        },
        {
          "data": {
            "text/html": [
              "Tracking run with wandb version 0.19.7"
            ],
            "text/plain": [
              "<IPython.core.display.HTML object>"
            ]
          },
          "metadata": {},
          "output_type": "display_data"
        },
        {
          "data": {
            "text/html": [
              "Run data is saved locally in <code>/content/wandb/run-20250228_045312-w6oc5iau</code>"
            ],
            "text/plain": [
              "<IPython.core.display.HTML object>"
            ]
          },
          "metadata": {},
          "output_type": "display_data"
        },
        {
          "data": {
            "text/html": [
              "Syncing run <strong><a href='https://wandb.ai/zda24m007-indian-institute-of-technology-madras/huggingface/runs/w6oc5iau' target=\"_blank\">./results</a></strong> to <a href='https://wandb.ai/zda24m007-indian-institute-of-technology-madras/huggingface' target=\"_blank\">Weights & Biases</a> (<a href='https://wandb.me/developer-guide' target=\"_blank\">docs</a>)<br>"
            ],
            "text/plain": [
              "<IPython.core.display.HTML object>"
            ]
          },
          "metadata": {},
          "output_type": "display_data"
        },
        {
          "data": {
            "text/html": [
              " View project at <a href='https://wandb.ai/zda24m007-indian-institute-of-technology-madras/huggingface' target=\"_blank\">https://wandb.ai/zda24m007-indian-institute-of-technology-madras/huggingface</a>"
            ],
            "text/plain": [
              "<IPython.core.display.HTML object>"
            ]
          },
          "metadata": {},
          "output_type": "display_data"
        },
        {
          "data": {
            "text/html": [
              " View run at <a href='https://wandb.ai/zda24m007-indian-institute-of-technology-madras/huggingface/runs/w6oc5iau' target=\"_blank\">https://wandb.ai/zda24m007-indian-institute-of-technology-madras/huggingface/runs/w6oc5iau</a>"
            ],
            "text/plain": [
              "<IPython.core.display.HTML object>"
            ]
          },
          "metadata": {},
          "output_type": "display_data"
        },
        {
          "data": {
            "text/html": [
              "\n",
              "    <div>\n",
              "      \n",
              "      <progress value='358' max='660' style='width:300px; height:20px; vertical-align: middle;'></progress>\n",
              "      [358/660 2:03:29 < 1:44:45, 0.05 it/s, Epoch 2.70/5]\n",
              "    </div>\n",
              "    <table border=\"1\" class=\"dataframe\">\n",
              "  <thead>\n",
              " <tr style=\"text-align: left;\">\n",
              "      <th>Epoch</th>\n",
              "      <th>Training Loss</th>\n",
              "      <th>Validation Loss</th>\n",
              "      <th>Date</th>\n",
              "      <th>Loc</th>\n",
              "      <th>Org</th>\n",
              "      <th>Per</th>\n",
              "      <th>Overall Precision</th>\n",
              "      <th>Overall Recall</th>\n",
              "      <th>Overall F1</th>\n",
              "      <th>Overall Accuracy</th>\n",
              "    </tr>\n",
              "  </thead>\n",
              "  <tbody>\n",
              "    <tr>\n",
              "      <td>1</td>\n",
              "      <td>1.237500</td>\n",
              "      <td>0.150670</td>\n",
              "      <td>{'precision': 0.5274725274725275, 'recall': 0.6, 'f1': 0.5614035087719298, 'number': 80}</td>\n",
              "      <td>{'precision': 0.6384615384615384, 'recall': 0.8217821782178217, 'f1': 0.7186147186147186, 'number': 303}</td>\n",
              "      <td>{'precision': 0.4090909090909091, 'recall': 0.20930232558139536, 'f1': 0.27692307692307694, 'number': 86}</td>\n",
              "      <td>{'precision': 0.6269230769230769, 'recall': 0.7951219512195122, 'f1': 0.7010752688172044, 'number': 205}</td>\n",
              "      <td>0.608917</td>\n",
              "      <td>0.709199</td>\n",
              "      <td>0.655243</td>\n",
              "      <td>0.950296</td>\n",
              "    </tr>\n",
              "    <tr>\n",
              "      <td>2</td>\n",
              "      <td>0.177100</td>\n",
              "      <td>0.078080</td>\n",
              "      <td>{'precision': 0.782608695652174, 'recall': 0.9, 'f1': 0.8372093023255814, 'number': 80}</td>\n",
              "      <td>{'precision': 0.9142857142857143, 'recall': 0.9504950495049505, 'f1': 0.9320388349514563, 'number': 303}</td>\n",
              "      <td>{'precision': 0.6744186046511628, 'recall': 0.6744186046511628, 'f1': 0.6744186046511628, 'number': 86}</td>\n",
              "      <td>{'precision': 0.9289099526066351, 'recall': 0.9560975609756097, 'f1': 0.9423076923076924, 'number': 205}</td>\n",
              "      <td>0.872159</td>\n",
              "      <td>0.910979</td>\n",
              "      <td>0.891147</td>\n",
              "      <td>0.978246</td>\n",
              "    </tr>\n",
              "  </tbody>\n",
              "</table><p>"
            ],
            "text/plain": [
              "<IPython.core.display.HTML object>"
            ]
          },
          "metadata": {},
          "output_type": "display_data"
        },
        {
          "metadata": {
            "tags": null
          },
          "name": "stderr",
          "output_type": "stream",
          "text": [
            "Trainer is attempting to log a value of \"{'precision': 0.5274725274725275, 'recall': 0.6, 'f1': 0.5614035087719298, 'number': 80}\" of type <class 'dict'> for key \"eval/DATE\" as a scalar. This invocation of Tensorboard's writer.add_scalar() is incorrect so we dropped this attribute.\n",
            "Trainer is attempting to log a value of \"{'precision': 0.6384615384615384, 'recall': 0.8217821782178217, 'f1': 0.7186147186147186, 'number': 303}\" of type <class 'dict'> for key \"eval/LOC\" as a scalar. This invocation of Tensorboard's writer.add_scalar() is incorrect so we dropped this attribute.\n",
            "Trainer is attempting to log a value of \"{'precision': 0.4090909090909091, 'recall': 0.20930232558139536, 'f1': 0.27692307692307694, 'number': 86}\" of type <class 'dict'> for key \"eval/ORG\" as a scalar. This invocation of Tensorboard's writer.add_scalar() is incorrect so we dropped this attribute.\n",
            "Trainer is attempting to log a value of \"{'precision': 0.6269230769230769, 'recall': 0.7951219512195122, 'f1': 0.7010752688172044, 'number': 205}\" of type <class 'dict'> for key \"eval/PER\" as a scalar. This invocation of Tensorboard's writer.add_scalar() is incorrect so we dropped this attribute.\n",
            "Trainer is attempting to log a value of \"{'precision': 0.782608695652174, 'recall': 0.9, 'f1': 0.8372093023255814, 'number': 80}\" of type <class 'dict'> for key \"eval/DATE\" as a scalar. This invocation of Tensorboard's writer.add_scalar() is incorrect so we dropped this attribute.\n",
            "Trainer is attempting to log a value of \"{'precision': 0.9142857142857143, 'recall': 0.9504950495049505, 'f1': 0.9320388349514563, 'number': 303}\" of type <class 'dict'> for key \"eval/LOC\" as a scalar. This invocation of Tensorboard's writer.add_scalar() is incorrect so we dropped this attribute.\n",
            "Trainer is attempting to log a value of \"{'precision': 0.6744186046511628, 'recall': 0.6744186046511628, 'f1': 0.6744186046511628, 'number': 86}\" of type <class 'dict'> for key \"eval/ORG\" as a scalar. This invocation of Tensorboard's writer.add_scalar() is incorrect so we dropped this attribute.\n",
            "Trainer is attempting to log a value of \"{'precision': 0.9289099526066351, 'recall': 0.9560975609756097, 'f1': 0.9423076923076924, 'number': 205}\" of type <class 'dict'> for key \"eval/PER\" as a scalar. This invocation of Tensorboard's writer.add_scalar() is incorrect so we dropped this attribute.\n"
          ]
        },
        {
          "output_type": "display_data",
          "data": {
            "text/plain": [
              "<IPython.core.display.HTML object>"
            ],
            "text/html": [
              "\n",
              "    <div>\n",
              "      \n",
              "      <progress value='660' max='660' style='width:300px; height:20px; vertical-align: middle;'></progress>\n",
              "      [660/660 3:51:36, Epoch 5/5]\n",
              "    </div>\n",
              "    <table border=\"1\" class=\"dataframe\">\n",
              "  <thead>\n",
              " <tr style=\"text-align: left;\">\n",
              "      <th>Epoch</th>\n",
              "      <th>Training Loss</th>\n",
              "      <th>Validation Loss</th>\n",
              "      <th>Date</th>\n",
              "      <th>Loc</th>\n",
              "      <th>Org</th>\n",
              "      <th>Per</th>\n",
              "      <th>Overall Precision</th>\n",
              "      <th>Overall Recall</th>\n",
              "      <th>Overall F1</th>\n",
              "      <th>Overall Accuracy</th>\n",
              "    </tr>\n",
              "  </thead>\n",
              "  <tbody>\n",
              "    <tr>\n",
              "      <td>1</td>\n",
              "      <td>1.237500</td>\n",
              "      <td>0.150670</td>\n",
              "      <td>{'precision': 0.5274725274725275, 'recall': 0.6, 'f1': 0.5614035087719298, 'number': 80}</td>\n",
              "      <td>{'precision': 0.6384615384615384, 'recall': 0.8217821782178217, 'f1': 0.7186147186147186, 'number': 303}</td>\n",
              "      <td>{'precision': 0.4090909090909091, 'recall': 0.20930232558139536, 'f1': 0.27692307692307694, 'number': 86}</td>\n",
              "      <td>{'precision': 0.6269230769230769, 'recall': 0.7951219512195122, 'f1': 0.7010752688172044, 'number': 205}</td>\n",
              "      <td>0.608917</td>\n",
              "      <td>0.709199</td>\n",
              "      <td>0.655243</td>\n",
              "      <td>0.950296</td>\n",
              "    </tr>\n",
              "    <tr>\n",
              "      <td>2</td>\n",
              "      <td>0.177100</td>\n",
              "      <td>0.078080</td>\n",
              "      <td>{'precision': 0.782608695652174, 'recall': 0.9, 'f1': 0.8372093023255814, 'number': 80}</td>\n",
              "      <td>{'precision': 0.9142857142857143, 'recall': 0.9504950495049505, 'f1': 0.9320388349514563, 'number': 303}</td>\n",
              "      <td>{'precision': 0.6744186046511628, 'recall': 0.6744186046511628, 'f1': 0.6744186046511628, 'number': 86}</td>\n",
              "      <td>{'precision': 0.9289099526066351, 'recall': 0.9560975609756097, 'f1': 0.9423076923076924, 'number': 205}</td>\n",
              "      <td>0.872159</td>\n",
              "      <td>0.910979</td>\n",
              "      <td>0.891147</td>\n",
              "      <td>0.978246</td>\n",
              "    </tr>\n",
              "    <tr>\n",
              "      <td>3</td>\n",
              "      <td>0.081400</td>\n",
              "      <td>0.087413</td>\n",
              "      <td>{'precision': 0.7802197802197802, 'recall': 0.8875, 'f1': 0.8304093567251462, 'number': 80}</td>\n",
              "      <td>{'precision': 0.9144736842105263, 'recall': 0.9174917491749175, 'f1': 0.9159802306425042, 'number': 303}</td>\n",
              "      <td>{'precision': 0.603448275862069, 'recall': 0.813953488372093, 'f1': 0.693069306930693, 'number': 86}</td>\n",
              "      <td>{'precision': 0.9521531100478469, 'recall': 0.9707317073170731, 'f1': 0.961352657004831, 'number': 205}</td>\n",
              "      <td>0.858333</td>\n",
              "      <td>0.916914</td>\n",
              "      <td>0.886657</td>\n",
              "      <td>0.974391</td>\n",
              "    </tr>\n",
              "    <tr>\n",
              "      <td>4</td>\n",
              "      <td>0.042700</td>\n",
              "      <td>0.099281</td>\n",
              "      <td>{'precision': 0.7717391304347826, 'recall': 0.8875, 'f1': 0.8255813953488372, 'number': 80}</td>\n",
              "      <td>{'precision': 0.8888888888888888, 'recall': 0.9504950495049505, 'f1': 0.9186602870813396, 'number': 303}</td>\n",
              "      <td>{'precision': 0.6095238095238096, 'recall': 0.7441860465116279, 'f1': 0.6701570680628273, 'number': 86}</td>\n",
              "      <td>{'precision': 0.9333333333333333, 'recall': 0.9560975609756097, 'f1': 0.944578313253012, 'number': 205}</td>\n",
              "      <td>0.846785</td>\n",
              "      <td>0.918398</td>\n",
              "      <td>0.881139</td>\n",
              "      <td>0.968470</td>\n",
              "    </tr>\n",
              "    <tr>\n",
              "      <td>5</td>\n",
              "      <td>0.035600</td>\n",
              "      <td>0.104519</td>\n",
              "      <td>{'precision': 0.6792452830188679, 'recall': 0.9, 'f1': 0.7741935483870968, 'number': 80}</td>\n",
              "      <td>{'precision': 0.9073482428115016, 'recall': 0.9372937293729373, 'f1': 0.922077922077922, 'number': 303}</td>\n",
              "      <td>{'precision': 0.66, 'recall': 0.7674418604651163, 'f1': 0.7096774193548386, 'number': 86}</td>\n",
              "      <td>{'precision': 0.9383886255924171, 'recall': 0.9658536585365853, 'f1': 0.9519230769230769, 'number': 205}</td>\n",
              "      <td>0.849315</td>\n",
              "      <td>0.919881</td>\n",
              "      <td>0.883191</td>\n",
              "      <td>0.971224</td>\n",
              "    </tr>\n",
              "  </tbody>\n",
              "</table><p>"
            ]
          },
          "metadata": {}
        },
        {
          "output_type": "stream",
          "name": "stderr",
          "text": [
            "Trainer is attempting to log a value of \"{'precision': 0.7802197802197802, 'recall': 0.8875, 'f1': 0.8304093567251462, 'number': 80}\" of type <class 'dict'> for key \"eval/DATE\" as a scalar. This invocation of Tensorboard's writer.add_scalar() is incorrect so we dropped this attribute.\n",
            "Trainer is attempting to log a value of \"{'precision': 0.9144736842105263, 'recall': 0.9174917491749175, 'f1': 0.9159802306425042, 'number': 303}\" of type <class 'dict'> for key \"eval/LOC\" as a scalar. This invocation of Tensorboard's writer.add_scalar() is incorrect so we dropped this attribute.\n",
            "Trainer is attempting to log a value of \"{'precision': 0.603448275862069, 'recall': 0.813953488372093, 'f1': 0.693069306930693, 'number': 86}\" of type <class 'dict'> for key \"eval/ORG\" as a scalar. This invocation of Tensorboard's writer.add_scalar() is incorrect so we dropped this attribute.\n",
            "Trainer is attempting to log a value of \"{'precision': 0.9521531100478469, 'recall': 0.9707317073170731, 'f1': 0.961352657004831, 'number': 205}\" of type <class 'dict'> for key \"eval/PER\" as a scalar. This invocation of Tensorboard's writer.add_scalar() is incorrect so we dropped this attribute.\n",
            "Trainer is attempting to log a value of \"{'precision': 0.7717391304347826, 'recall': 0.8875, 'f1': 0.8255813953488372, 'number': 80}\" of type <class 'dict'> for key \"eval/DATE\" as a scalar. This invocation of Tensorboard's writer.add_scalar() is incorrect so we dropped this attribute.\n",
            "Trainer is attempting to log a value of \"{'precision': 0.8888888888888888, 'recall': 0.9504950495049505, 'f1': 0.9186602870813396, 'number': 303}\" of type <class 'dict'> for key \"eval/LOC\" as a scalar. This invocation of Tensorboard's writer.add_scalar() is incorrect so we dropped this attribute.\n",
            "Trainer is attempting to log a value of \"{'precision': 0.6095238095238096, 'recall': 0.7441860465116279, 'f1': 0.6701570680628273, 'number': 86}\" of type <class 'dict'> for key \"eval/ORG\" as a scalar. This invocation of Tensorboard's writer.add_scalar() is incorrect so we dropped this attribute.\n",
            "Trainer is attempting to log a value of \"{'precision': 0.9333333333333333, 'recall': 0.9560975609756097, 'f1': 0.944578313253012, 'number': 205}\" of type <class 'dict'> for key \"eval/PER\" as a scalar. This invocation of Tensorboard's writer.add_scalar() is incorrect so we dropped this attribute.\n",
            "Trainer is attempting to log a value of \"{'precision': 0.6792452830188679, 'recall': 0.9, 'f1': 0.7741935483870968, 'number': 80}\" of type <class 'dict'> for key \"eval/DATE\" as a scalar. This invocation of Tensorboard's writer.add_scalar() is incorrect so we dropped this attribute.\n",
            "Trainer is attempting to log a value of \"{'precision': 0.9073482428115016, 'recall': 0.9372937293729373, 'f1': 0.922077922077922, 'number': 303}\" of type <class 'dict'> for key \"eval/LOC\" as a scalar. This invocation of Tensorboard's writer.add_scalar() is incorrect so we dropped this attribute.\n",
            "Trainer is attempting to log a value of \"{'precision': 0.66, 'recall': 0.7674418604651163, 'f1': 0.7096774193548386, 'number': 86}\" of type <class 'dict'> for key \"eval/ORG\" as a scalar. This invocation of Tensorboard's writer.add_scalar() is incorrect so we dropped this attribute.\n",
            "Trainer is attempting to log a value of \"{'precision': 0.9383886255924171, 'recall': 0.9658536585365853, 'f1': 0.9519230769230769, 'number': 205}\" of type <class 'dict'> for key \"eval/PER\" as a scalar. This invocation of Tensorboard's writer.add_scalar() is incorrect so we dropped this attribute.\n"
          ]
        },
        {
          "output_type": "execute_result",
          "data": {
            "text/plain": [
              "TrainOutput(global_step=660, training_loss=0.2521613834482251, metrics={'train_runtime': 13952.3925, 'train_samples_per_second': 0.756, 'train_steps_per_second': 0.047, 'total_flos': 688887169493760.0, 'train_loss': 0.2521613834482251, 'epoch': 5.0})"
            ]
          },
          "metadata": {},
          "execution_count": 25
        }
      ]
    },
    {
      "cell_type": "code",
      "source": [
        "# Evaluate the model\n",
        "results = trainer.evaluate(tokenized_datasets[\"test\"])\n",
        "print(results)"
      ],
      "metadata": {
        "id": "e-ZfQObF0_-B",
        "colab": {
          "base_uri": "https://localhost:8080/",
          "height": 144
        },
        "outputId": "0699ddce-3504-4995-eee8-7a533f763d85"
      },
      "execution_count": 26,
      "outputs": [
        {
          "output_type": "display_data",
          "data": {
            "text/plain": [
              "<IPython.core.display.HTML object>"
            ],
            "text/html": [
              "\n",
              "    <div>\n",
              "      \n",
              "      <progress value='19' max='19' style='width:300px; height:20px; vertical-align: middle;'></progress>\n",
              "      [19/19 04:06]\n",
              "    </div>\n",
              "    "
            ]
          },
          "metadata": {}
        },
        {
          "output_type": "stream",
          "name": "stderr",
          "text": [
            "Trainer is attempting to log a value of \"{'precision': 0.7538461538461538, 'recall': 0.9074074074074074, 'f1': 0.8235294117647058, 'number': 162}\" of type <class 'dict'> for key \"eval/DATE\" as a scalar. This invocation of Tensorboard's writer.add_scalar() is incorrect so we dropped this attribute.\n",
            "Trainer is attempting to log a value of \"{'precision': 0.8864541832669323, 'recall': 0.9611231101511879, 'f1': 0.9222797927461138, 'number': 463}\" of type <class 'dict'> for key \"eval/LOC\" as a scalar. This invocation of Tensorboard's writer.add_scalar() is incorrect so we dropped this attribute.\n",
            "Trainer is attempting to log a value of \"{'precision': 0.7101449275362319, 'recall': 0.665158371040724, 'f1': 0.6869158878504674, 'number': 221}\" of type <class 'dict'> for key \"eval/ORG\" as a scalar. This invocation of Tensorboard's writer.add_scalar() is incorrect so we dropped this attribute.\n",
            "Trainer is attempting to log a value of \"{'precision': 0.9429429429429429, 'recall': 0.9429429429429429, 'f1': 0.9429429429429429, 'number': 333}\" of type <class 'dict'> for key \"eval/PER\" as a scalar. This invocation of Tensorboard's writer.add_scalar() is incorrect so we dropped this attribute.\n"
          ]
        },
        {
          "output_type": "stream",
          "name": "stdout",
          "text": [
            "{'eval_loss': 0.07884173840284348, 'eval_DATE': {'precision': 0.7538461538461538, 'recall': 0.9074074074074074, 'f1': 0.8235294117647058, 'number': 162}, 'eval_LOC': {'precision': 0.8864541832669323, 'recall': 0.9611231101511879, 'f1': 0.9222797927461138, 'number': 463}, 'eval_ORG': {'precision': 0.7101449275362319, 'recall': 0.665158371040724, 'f1': 0.6869158878504674, 'number': 221}, 'eval_PER': {'precision': 0.9429429429429429, 'recall': 0.9429429429429429, 'f1': 0.9429429429429429, 'number': 333}, 'eval_overall_precision': 0.85125303152789, 'eval_overall_recall': 0.8931297709923665, 'eval_overall_f1': 0.8716887417218543, 'eval_overall_accuracy': 0.9759880589266013, 'eval_runtime': 258.8837, 'eval_samples_per_second': 2.333, 'eval_steps_per_second': 0.073, 'epoch': 5.0}\n"
          ]
        }
      ]
    },
    {
      "cell_type": "markdown",
      "source": [
        "# Training Performance Over Epochs\n",
        "This visualization plots the training loss, validation loss, precision, recall, F1-score, and accuracy over epochs."
      ],
      "metadata": {
        "id": "s7f2zOdn7ADm"
      }
    },
    {
      "cell_type": "markdown",
      "source": [
        "Prepare the Data\n",
        "Organize the data into separate lists for each metric (precision, recall, F1-score, accuracy) for each epoch."
      ],
      "metadata": {
        "id": "bgdYNblXNJv3"
      }
    },
    {
      "cell_type": "code",
      "source": [
        "# Extracted data from the training process\n",
        "epochs = [1, 2, 3, 4, 5]\n",
        "\n",
        "# Training Loss\n",
        "training_loss = [1.237500, 0.177100, 0.081400, 0.042700, 0.035600]\n",
        "\n",
        "# Validation Loss\n",
        "validation_loss = [0.150670, 0.078080, 0.087413, 0.099281, 0.104519]\n",
        "\n",
        "# DATE Metrics\n",
        "date_precision = [0.527473, 0.782609, 0.780220, 0.771739, 0.679245]\n",
        "date_recall = [0.6, 0.9, 0.8875, 0.8875, 0.9]\n",
        "date_f1 = [0.561404, 0.837209, 0.830409, 0.825581, 0.774194]\n",
        "\n",
        "# LOC Metrics\n",
        "loc_precision = [0.638462, 0.914286, 0.914474, 0.888889, 0.907348]\n",
        "loc_recall = [0.821782, 0.950495, 0.917492, 0.950495, 0.937294]\n",
        "loc_f1 = [0.718615, 0.932039, 0.915980, 0.918660, 0.922078]\n",
        "\n",
        "# ORG Metrics\n",
        "org_precision = [0.409091, 0.674419, 0.603448, 0.609524, 0.66]\n",
        "org_recall = [0.209302, 0.674419, 0.813953, 0.744186, 0.767442]\n",
        "org_f1 = [0.276923, 0.674419, 0.693069, 0.670157, 0.709677]\n",
        "\n",
        "# PER Metrics\n",
        "per_precision = [0.626923, 0.928910, 0.952153, 0.933333, 0.938389]\n",
        "per_recall = [0.795122, 0.956098, 0.970732, 0.956098, 0.965854]\n",
        "per_f1 = [0.701075, 0.942308, 0.961353, 0.944578, 0.951923]\n",
        "\n",
        "# Overall Metrics\n",
        "overall_precision = [0.608917, 0.872159, 0.858333, 0.846785, 0.849315]\n",
        "overall_recall = [0.709199, 0.910979, 0.916914, 0.918398, 0.919881]\n",
        "overall_f1 = [0.655243, 0.891147, 0.886657, 0.881139, 0.883191]\n",
        "overall_accuracy = [0.950296, 0.978246, 0.974391, 0.968470, 0.971224]"
      ],
      "metadata": {
        "id": "mWztKwyL69TN"
      },
      "execution_count": 54,
      "outputs": []
    },
    {
      "cell_type": "markdown",
      "source": [
        "Create the Visualization"
      ],
      "metadata": {
        "id": "o5YkrHJcNM6-"
      }
    },
    {
      "cell_type": "code",
      "source": [
        "# Line plot for visualization\n",
        "plt.figure(figsize=(14, 6))\n",
        "\n",
        "# Subplot 1: Losses\n",
        "plt.subplot(1, 2, 1)\n",
        "plt.plot(epochs, training_loss, label='Training Loss', marker='o', color='blue')\n",
        "plt.plot(epochs, validation_loss, label='Validation Loss', marker='o', color='orange')\n",
        "plt.title('Loss Over Epochs')\n",
        "plt.xlabel('Epoch')\n",
        "plt.ylabel('Loss')\n",
        "plt.legend()\n",
        "plt.grid(linestyle='--', alpha=0.7)\n",
        "\n",
        "# Function to plot metrics for a specific entity type\n",
        "def plot_entity_metrics(entity_name, precision, recall, f1, color):\n",
        "    plt.figure(figsize=(6, 4))\n",
        "    plt.plot(epochs, precision, label=f'{entity_name} Precision', marker='o', linestyle='-', color=color)\n",
        "    plt.plot(epochs, recall, label=f'{entity_name} Recall', marker='o', linestyle='--', color=color)\n",
        "    plt.plot(epochs, f1, label=f'{entity_name} F1-Score', marker='o', linestyle='-.', color=color)\n",
        "    plt.title(f'{entity_name} Metrics Over Epochs')\n",
        "    plt.xlabel('Epoch')\n",
        "    plt.ylabel('Metric Value (%)')\n",
        "    plt.legend()\n",
        "    plt.grid(linestyle='--', alpha=0.7)\n",
        "    plt.show()\n",
        "\n",
        "# Plot DATE metrics\n",
        "plot_entity_metrics(\"DATE\", date_precision, date_recall, date_f1, 'blue')\n",
        "\n",
        "# Plot LOC metrics\n",
        "plot_entity_metrics(\"LOC\", loc_precision, loc_recall, loc_f1, 'green')\n",
        "\n",
        "# Plot ORG metrics\n",
        "plot_entity_metrics(\"ORG\", org_precision, org_recall, org_f1, 'red')\n",
        "\n",
        "# Plot PER metrics\n",
        "plot_entity_metrics(\"PER\", per_precision, per_recall, per_f1, 'purple')\n",
        "\n",
        "# Plot Overall metrics\n",
        "plt.figure(figsize=(6, 4))\n",
        "plt.plot(epochs, overall_precision, label='Overall Precision', marker='o', linestyle='-', color='black')\n",
        "plt.plot(epochs, overall_recall, label='Overall Recall', marker='o', linestyle='--', color='black')\n",
        "plt.plot(epochs, overall_f1, label='Overall F1-Score', marker='o', linestyle='-.', color='black')\n",
        "plt.plot(epochs, overall_accuracy, label='Overall Accuracy', marker='o', linestyle=':', color='brown')\n",
        "plt.title('Overall Metrics Over Epochs')\n",
        "plt.xlabel('Epoch')\n",
        "plt.ylabel('Metric Value (%)')\n",
        "plt.legend()\n",
        "plt.grid(linestyle='--', alpha=0.7)\n",
        "plt.show()"
      ],
      "metadata": {
        "id": "41nh8YNJNT5n",
        "outputId": "e36914c7-0878-499f-deab-5a6598289115",
        "colab": {
          "base_uri": "https://localhost:8080/",
          "height": 1000
        }
      },
      "execution_count": 56,
      "outputs": [
        {
          "output_type": "display_data",
          "data": {
            "text/plain": [
              "<Figure size 1400x600 with 1 Axes>"
            ],
            "image/png": "[encoded data removed]"
          },
          "metadata": {}
        },
        {
          "output_type": "display_data",
          "data": {
            "text/plain": [
              "<Figure size 600x400 with 1 Axes>"
            ],
            "image/png": "[encoded data removed]"
          },
          "metadata": {}
        },
        {
          "output_type": "display_data",
          "data": {
            "text/plain": [
              "<Figure size 600x400 with 1 Axes>"
            ],
            "image/png": "[encoded data removed]"
          },
          "metadata": {}
        },
        {
          "output_type": "display_data",
          "data": {
            "text/plain": [
              "<Figure size 600x400 with 1 Axes>"
            ],
            "image/png": "[encoded data removed]"
          },
          "metadata": {}
        },
        {
          "output_type": "display_data",
          "data": {
            "text/plain": [
              "<Figure size 600x400 with 1 Axes>"
            ],
            "image/png": "[encoded data removed]"
          },
          "metadata": {}
        },
        {
          "output_type": "display_data",
          "data": {
            "text/plain": [
              "<Figure size 600x400 with 1 Axes>"
            ],
            "image/png": "[encoded data removed]"
          },
          "metadata": {}
        }
      ]
    },
    {
      "cell_type": "markdown",
      "source": [
        "# Save the Best Model\n",
        "After training, save your fine-tuned model:"
      ],
      "metadata": {
        "id": "hWiUN4rquT9-"
      }
    },
    {
      "cell_type": "code",
      "source": [
        "model.save_pretrained(\"./fine_tuned_model\")\n",
        "tokenizer.save_pretrained(\"./fine_tuned_model\")"
      ],
      "metadata": {
        "id": "aZXfr3LouQq-",
        "colab": {
          "base_uri": "https://localhost:8080/"
        },
        "outputId": "dfe39226-8a80-46ba-9b48-136b8e0037b1"
      },
      "execution_count": 28,
      "outputs": [
        {
          "output_type": "execute_result",
          "data": {
            "text/plain": [
              "('./fine_tuned_model/tokenizer_config.json',\n",
              " './fine_tuned_model/special_tokens_map.json',\n",
              " './fine_tuned_model/vocab.json',\n",
              " './fine_tuned_model/merges.txt',\n",
              " './fine_tuned_model/added_tokens.json',\n",
              " './fine_tuned_model/tokenizer.json')"
            ]
          },
          "metadata": {},
          "execution_count": 28
        }
      ]
    },
    {
      "cell_type": "markdown",
      "source": [
        "# Validate with Swahili Speakers\n",
        "After evaluating the model, validate the identified named entities with Swahili-speaking members for linguistic accuracy.\n",
        "\n",
        "Sample 500 Named Entities: Extract 500 named entities from the test set predictions.\n",
        "\n",
        "Create a Validation Set: Share these entities with Swahili speakers for validation.\n",
        "\n",
        "Calculate Linguistic Accuracy: Compare the model's predictions with human-validated labels."
      ],
      "metadata": {
        "id": "kapkIHoWc6IL"
      }
    },
    {
      "cell_type": "code",
      "source": [
        "print(tokenized_datasets[\"test\"].features)"
      ],
      "metadata": {
        "id": "-KIqDA64yixP",
        "colab": {
          "base_uri": "https://localhost:8080/"
        },
        "outputId": "7168521b-cf70-40f8-e44d-5d80692646f9"
      },
      "execution_count": 29,
      "outputs": [
        {
          "output_type": "stream",
          "name": "stdout",
          "text": [
            "{'id': Value(dtype='string', id=None), 'tokens': Sequence(feature=Value(dtype='string', id=None), length=-1, id=None), 'ner_tags': Sequence(feature=ClassLabel(names=['O', 'B-PER', 'I-PER', 'B-ORG', 'I-ORG', 'B-LOC', 'I-LOC', 'B-DATE', 'I-DATE'], id=None), length=-1, id=None), 'input_ids': Sequence(feature=Value(dtype='int32', id=None), length=-1, id=None), 'attention_mask': Sequence(feature=Value(dtype='int8', id=None), length=-1, id=None), 'labels': Sequence(feature=Value(dtype='int64', id=None), length=-1, id=None)}\n"
          ]
        }
      ]
    },
    {
      "cell_type": "markdown",
      "source": [
        "# Extract 500 Named Entities\n",
        "From the test set predictions, extract 500 named entities. These entities should represent a diverse sample of the categories (e.g., PERSON, LOCATION, ORGANIZATION, etc.) to ensure comprehensive validation."
      ],
      "metadata": {
        "id": "_d_k2gWYpjKB"
      }
    },
    {
      "cell_type": "code",
      "source": [
        "def extract_named_entities(predictions, tokenized_test_set):\n",
        "    entities = []\n",
        "    label_list = tokenized_test_set.features[\"ner_tags\"].feature.names\n",
        "\n",
        "    for pred, example in zip(predictions, tokenized_test_set):\n",
        "        tokens = example[\"original_tokens\"]  # Use \"original_tokens\" instead of \"tokens\"\n",
        "        word_ids = example[\"word_ids\"]  # Access the \"word_ids\" field\n",
        "        current_entity = []\n",
        "        entity_type = None\n",
        "\n",
        "        for idx, (p, word_id) in enumerate(zip(pred, word_ids)):\n",
        "            if word_id is None:  # Skip special tokens\n",
        "                continue\n",
        "\n",
        "            label = label_list[p]\n",
        "\n",
        "            if label != \"O\":  # If it's a named entity\n",
        "                if not current_entity:  # Start of a new entity\n",
        "                    entity_type = label.split(\"-\")[-1]\n",
        "                    current_entity.append(tokens[word_id])\n",
        "                else:\n",
        "                    current_entity.append(tokens[word_id])\n",
        "            else:\n",
        "                if current_entity:  # End of an entity\n",
        "                    entities.append((\"\".join(current_entity), entity_type))\n",
        "                    current_entity = []\n",
        "\n",
        "        if current_entity:  # Add the last entity if it exists\n",
        "            entities.append((\"\".join(current_entity), entity_type))\n",
        "\n",
        "    return entities[:500]  # Return the first 500 entities"
      ],
      "metadata": {
        "id": "slrh2NhnpmNC"
      },
      "execution_count": 38,
      "outputs": []
    },
    {
      "cell_type": "markdown",
      "source": [
        "# Generate Predictions\n",
        "Use the Trainer object to generate predictions on the test set."
      ],
      "metadata": {
        "id": "1LgluSeIr_9L"
      }
    },
    {
      "cell_type": "markdown",
      "source": [
        "# Call the Function\n",
        "Call the function to extract 500 named entities."
      ],
      "metadata": {
        "id": "3cMUXsU6rvfz"
      }
    },
    {
      "cell_type": "code",
      "source": [
        "# Generate predictions on the test set\n",
        "predictions, labels, _ = trainer.predict(tokenized_datasets[\"test\"])\n",
        "predictions = np.argmax(predictions, axis=2)\n",
        "\n",
        "# Extract 500 named entities\n",
        "sample_entities = extract_named_entities(predictions, tokenized_datasets[\"test\"])\n",
        "\n",
        "# Print the first few entities for verification\n",
        "for entity, entity_type in sample_entities[:10]:\n",
        "    print(f\"Entity: {entity}, Type: {entity_type}\")"
      ],
      "metadata": {
        "id": "d-J-jIphrxsW",
        "colab": {
          "base_uri": "https://localhost:8080/",
          "height": 191
        },
        "outputId": "d60b9ae1-9db5-4184-ab8d-7e552fc0d67c"
      },
      "execution_count": 39,
      "outputs": [
        {
          "output_type": "display_data",
          "data": {
            "text/plain": [
              "<IPython.core.display.HTML object>"
            ],
            "text/html": []
          },
          "metadata": {}
        },
        {
          "output_type": "stream",
          "name": "stdout",
          "text": [
            "Entity: YoweriMuseveni, Type: PER\n",
            "Entity: jumanne, Type: DATE\n",
            "Entity: Museveni, Type: PER\n",
            "Entity: Museveni, Type: PER\n",
            "Entity: 9, Type: DATE\n",
            "Entity: siku21, Type: DATE\n",
            "Entity: Museveni, Type: PER\n",
            "Entity: Museveni, Type: PER\n",
            "Entity: Uganda, Type: LOC\n",
            "Entity: RuhakanaRuhakanaRuhakanaRugundaRugunda, Type: PER\n"
          ]
        }
      ]
    },
    {
      "cell_type": "markdown",
      "source": [
        "# Prepare the Validation Set\n",
        "Organize the extracted named entities into a format that can be easily shared with Swahili speakers. This could be a CSV file or a simple text document."
      ],
      "metadata": {
        "id": "6QHmjBFIpqrv"
      }
    },
    {
      "cell_type": "code",
      "source": [
        "import csv\n",
        "\n",
        "# Define the output file path\n",
        "output_file = \"/content/drive/MyDrive/NLP project/validation_set.csv\"\n",
        "\n",
        "# Open the file in write mode with UTF-8 encoding\n",
        "with open(output_file, mode=\"w\", newline=\"\", encoding=\"utf-8\") as file:\n",
        "    writer = csv.writer(file)\n",
        "\n",
        "    # Write the header row\n",
        "    writer.writerow([\"Entity\", \"Type\", \"Human Label\", \"Correct?\"])\n",
        "\n",
        "    # Write each entity and its type to the CSV file\n",
        "    for entity, entity_type in sample_entities:\n",
        "        writer.writerow([entity, entity_type, \"\", \"\"])  # Leave Human Label and Correct? blank initially\n",
        "\n",
        "print(f\"Entities saved to {output_file}\")"
      ],
      "metadata": {
        "id": "-c56IxeKpyaB",
        "colab": {
          "base_uri": "https://localhost:8080/"
        },
        "outputId": "527506d0-5503-4e44-d3bb-2541a00851ca"
      },
      "execution_count": 46,
      "outputs": [
        {
          "output_type": "stream",
          "name": "stdout",
          "text": [
            "Entities saved to /content/drive/MyDrive/NLP project/validation_set.csv\n"
          ]
        }
      ]
    },
    {
      "cell_type": "markdown",
      "source": [
        "Verify the CSV File"
      ],
      "metadata": {
        "id": "s3PXAm1mD5SF"
      }
    },
    {
      "cell_type": "code",
      "source": [
        "import pandas as pd\n",
        "\n",
        "# Load the CSV file into a DataFrame\n",
        "df = pd.read_csv(\"/content/drive/MyDrive/NLP project/validation_set.csv\")\n",
        "\n",
        "# Display the first few rows\n",
        "print(df.head())"
      ],
      "metadata": {
        "id": "Jv6Z0CDJD2eG",
        "outputId": "72d7aa58-da3f-4c5c-9828-54db9b6f501b",
        "colab": {
          "base_uri": "https://localhost:8080/"
        }
      },
      "execution_count": 47,
      "outputs": [
        {
          "output_type": "stream",
          "name": "stdout",
          "text": [
            "           Entity  Type  Human Label  Correct?\n",
            "0  YoweriMuseveni   PER          NaN       NaN\n",
            "1         jumanne  DATE          NaN       NaN\n",
            "2        Museveni   PER          NaN       NaN\n",
            "3        Museveni   PER          NaN       NaN\n",
            "4               9  DATE          NaN       NaN\n"
          ]
        }
      ]
    },
    {
      "cell_type": "code",
      "source": [
        "from google.colab import drive\n",
        "drive.mount('/content/drive')"
      ],
      "metadata": {
        "id": "xugXFvK8Eh6Q",
        "outputId": "28dd1c7f-afa7-4d58-b730-60cc2bd73473",
        "colab": {
          "base_uri": "https://localhost:8080/"
        }
      },
      "execution_count": 42,
      "outputs": [
        {
          "output_type": "stream",
          "name": "stdout",
          "text": [
            "Mounted at /content/drive\n"
          ]
        }
      ]
    },
    {
      "cell_type": "markdown",
      "source": [
        "# Share with Swahili Speakers\n",
        "Distribute the CSV file or text document to Swahili-speaking validators. Provide clear instructions on how to review the named entities:\n",
        "\n",
        "Review the Entity : Check if the entity is correctly identified.\n",
        "Assign a Human Label : If the entity is incorrect, provide the correct label.\n",
        "Mark Correctness : Indicate whether the model's prediction is correct (Yes) or incorrect (No).\n",
        "Example Instructions:\n",
        "If the entity \"Dodoma\" is correctly labeled as LOCATION, mark Correct? as Yes.\n",
        "If the entity \"Apple\" is incorrectly labeled as PERSON, mark Correct? as No and update the Human Label to ORGANIZATION."
      ],
      "metadata": {
        "id": "c_o0wE8Bp18G"
      }
    },
    {
      "cell_type": "markdown",
      "source": [
        "# Collect Feedback\n",
        "Once the validators complete their reviews, collect the updated CSV file or document. This feedback will include corrections and confirmations of the model's predictions."
      ],
      "metadata": {
        "id": "oSpvYfshp6UH"
      }
    },
    {
      "cell_type": "markdown",
      "source": [
        "# Calculate Linguistic Accuracy\n",
        "Analyze the feedback to calculate the linguistic accuracy of the model's predictions.\n",
        "\n",
        "Metrics to Compute:\n",
        "Accuracy : Percentage of entities correctly identified by the model.\n",
        "Error Rate : Percentage of entities incorrectly identified.\n",
        "Confusion Matrix : Breakdown of errors by entity type (e.g., PERSON vs. LOCATION)."
      ],
      "metadata": {
        "id": "-FMiGJYvp-h2"
      }
    },
    {
      "cell_type": "code",
      "source": [
        "import pandas as pd\n",
        "\n",
        "# Load the validated CSV file\n",
        "validated_data = pd.read_csv(\"/content/drive/MyDrive/NLP project/validation_human_label.csv\")\n",
        "\n",
        "# Filter rows where correctness is marked\n",
        "correct_rows = validated_data[validated_data[\"Correct?\"] == \"Yes\"]\n",
        "incorrect_rows = validated_data[validated_data[\"Correct?\"] == \"No\"]\n",
        "\n",
        "# Calculate accuracy\n",
        "total_entities = len(validated_data)\n",
        "correct_entities = len(correct_rows)\n",
        "accuracy = correct_entities / total_entities * 100\n",
        "\n",
        "print(f\"Linguistic Accuracy: {accuracy:.2f}%\")"
      ],
      "metadata": {
        "id": "jCjnh2raqB2X",
        "colab": {
          "base_uri": "https://localhost:8080/"
        },
        "outputId": "ec09effd-60f2-4225-83a9-61919711f1ad"
      },
      "execution_count": 52,
      "outputs": [
        {
          "output_type": "stream",
          "name": "stdout",
          "text": [
            "Linguistic Accuracy: 96.20%\n"
          ]
        }
      ]
    },
    {
      "cell_type": "code",
      "source": [
        "from sklearn.metrics import confusion_matrix, ConfusionMatrixDisplay\n",
        "import matplotlib.pyplot as plt\n",
        "\n",
        "# Define the unique entity types\n",
        "labels = [\"PER\", \"LOC\", \"ORG\", \"DATE\", \"O\"]\n",
        "\n",
        "# Compute the confusion matrix\n",
        "cm = confusion_matrix(true_labels, predicted_labels, labels=labels)\n",
        "\n",
        "# Create a ConfusionMatrixDisplay object\n",
        "disp = ConfusionMatrixDisplay(confusion_matrix=cm, display_labels=labels)\n",
        "\n",
        "# Plot the confusion matrix\n",
        "plt.figure(figsize=(8, 6))\n",
        "disp.plot(cmap=\"Blues\", values_format=\"d\")\n",
        "plt.title('Confusion Matrix for Errors')\n",
        "plt.xlabel('Predicted Label')\n",
        "plt.ylabel('True Label')\n",
        "plt.show()"
      ],
      "metadata": {
        "id": "WMfSsXZa6nPt",
        "colab": {
          "base_uri": "https://localhost:8080/",
          "height": 489
        },
        "outputId": "6103d3bf-248b-4578-8ad4-37ccb8ea1900"
      },
      "execution_count": 58,
      "outputs": [
        {
          "output_type": "display_data",
          "data": {
            "text/plain": [
              "<Figure size 800x600 with 0 Axes>"
            ]
          },
          "metadata": {}
        },
        {
          "output_type": "display_data",
          "data": {
            "text/plain": [
              "<Figure size 640x480 with 2 Axes>"
            ],
            "image/png": "[encoded data removed]"
          },
          "metadata": {}
        }
      ]
    },
    {
      "cell_type": "markdown",
      "source": [
        "# Analyze Errors\n",
        "Identify common errors in the model's predictions and use this information to improve the model further. For example:\n",
        "\n",
        "Are certain entity types more prone to errors?\n",
        "Are there specific linguistic patterns that the model struggles with?"
      ],
      "metadata": {
        "id": "_LAKT9CCqFxo"
      }
    },
    {
      "cell_type": "code",
      "source": [
        "# Group errors by entity type\n",
        "error_analysis = incorrect_rows.groupby(\"Type\").size().reset_index(name=\"Count\")\n",
        "error_analysis[\"Percentage\"] = error_analysis[\"Count\"] / len(incorrect_rows) * 100\n",
        "\n",
        "print(\"Error Analysis by Entity Type:\")\n",
        "print(error_analysis)"
      ],
      "metadata": {
        "id": "0iYYgrSzqK6m",
        "colab": {
          "base_uri": "https://localhost:8080/"
        },
        "outputId": "1f9fe898-23a9-4e8b-9fa2-8cba1519a992"
      },
      "execution_count": 59,
      "outputs": [
        {
          "output_type": "stream",
          "name": "stdout",
          "text": [
            "Error Analysis by Entity Type:\n",
            "   Type  Count  Percentage\n",
            "0  DATE      9   47.368421\n",
            "1   LOC      3   15.789474\n",
            "2   ORG      5   26.315789\n",
            "3   PER      2   10.526316\n"
          ]
        }
      ]
    }
  ]
}